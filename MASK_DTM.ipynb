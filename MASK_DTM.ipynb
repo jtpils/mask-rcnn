{
 "cells": [
  {
   "cell_type": "code",
   "execution_count": 1,
   "metadata": {},
   "outputs": [
    {
     "name": "stderr",
     "output_type": "stream",
     "text": [
      "Using TensorFlow backend.\n"
     ]
    },
    {
     "name": "stdout",
     "output_type": "stream",
     "text": [
      "Running on ..\\data\\bomb_meiler_barrow_mrcnn\\validation\\x\\1004.tif\n",
      "Processing 1 images\n",
      "image                    shape: (256, 256, 1)         min:    0.00000  max:    1.00000  float32\n",
      "molded_images            shape: (1, 256, 256, 1)      min:    0.00000  max:    1.00000  float64\n",
      "image_metas              shape: (1, 16)               min:    0.00000  max:  256.00000  int32\n",
      "anchors                  shape: (1, 16368, 4)         min:   -0.70988  max:    1.45890  float32\n"
     ]
    }
   ],
   "source": [
    "import os\n",
    "import sys\n",
    "import json\n",
    "import datetime\n",
    "import numpy as np\n",
    "import skimage.draw\n",
    "from glob import glob\n",
    "# Root directory of the project\n",
    "# ROOT_DIR = os.path.abspath(\"../../\")\n",
    "\n",
    "# Import Mask RCNN\n",
    "# sys.path.append(ROOT_DIR)  # To find local version of the library\n",
    "from src.config import Config\n",
    "from src import harz3 as harz\n",
    "import src.model as modellib\n",
    "import src.utils as utils\n",
    "\n",
    "class InferenceConfig(harz.HarzConfig):\n",
    "    # Set batch size to 1 since we'll be running inference on\n",
    "    # one image at a time. Batch size = GPU_COUNT * IMAGES_PER_GPU\n",
    "    GPU_COUNT = 1\n",
    "    IMAGES_PER_GPU = 1\n",
    "    DETECTION_MIN_CONFIDENCE = 0.5\n",
    "config = InferenceConfig()\n",
    "\n",
    "model = modellib.MaskRCNN(mode=\"inference\", config=config,\n",
    "                                  model_dir='./log')\n",
    "weights_path=r'.\\log\\bombmeilerbarrow\\mask_rcnn_harz_0300.h5'\n",
    "model.load_weights(weights_path, by_name=True)\n",
    "images = glob(r'..\\data\\bomb_meiler_barrow_mrcnn\\validation\\x\\*.tif')\n",
    "my_im=images[0]\n",
    "r = harz.detect_and_color_splash(model, my_im)\n",
    "from src import my_utils as ut\n"
   ]
  },
  {
   "cell_type": "code",
   "execution_count": 3,
   "metadata": {},
   "outputs": [
    {
     "name": "stdout",
     "output_type": "stream",
     "text": [
      "Running on ..\\data\\bomb_meiler_barrow_mrcnn\\validation\\x\\1005.tif\n",
      "Processing 1 images\n",
      "image                    shape: (256, 256, 1)         min:    0.00000  max:    1.00000  float32\n",
      "molded_images            shape: (1, 256, 256, 1)      min:    0.00000  max:    1.00000  float64\n",
      "image_metas              shape: (1, 16)               min:    0.00000  max:  256.00000  int32\n",
      "anchors                  shape: (1, 16368, 4)         min:   -0.70988  max:    1.45890  float32\n"
     ]
    }
   ],
   "source": [
    "my_im=images[1]\n",
    "r = harz.detect_and_color_splash(model, my_im)\n",
    "from src import my_utils as ut"
   ]
  },
  {
   "cell_type": "code",
   "execution_count": 5,
   "metadata": {},
   "outputs": [
    {
     "data": {
      "text/plain": [
       "array([2, 2])"
      ]
     },
     "execution_count": 5,
     "metadata": {},
     "output_type": "execute_result"
    }
   ],
   "source": [
    "r['class_ids']"
   ]
  },
  {
   "cell_type": "code",
   "execution_count": 11,
   "metadata": {},
   "outputs": [],
   "source": [
    "results_dir = r'..\\data\\bomb_meiler_barrow_mrcnn\\validation\\results'"
   ]
  },
  {
   "cell_type": "code",
   "execution_count": 80,
   "metadata": {},
   "outputs": [],
   "source": [
    "import imp\n",
    "ut = imp.reload(ut)\n"
   ]
  },
  {
   "cell_type": "code",
   "execution_count": 81,
   "metadata": {},
   "outputs": [
    {
     "name": "stdout",
     "output_type": "stream",
     "text": [
      "Running on ..\\data\\bomb_meiler_barrow_mrcnn\\validation\\x\\1004.tif\n",
      "Processing 1 images\n",
      "image                    shape: (256, 256, 1)         min:    0.00000  max:    1.00000  float32\n",
      "molded_images            shape: (1, 256, 256, 1)      min:    0.00000  max:    1.00000  float64\n",
      "image_metas              shape: (1, 16)               min:    0.00000  max:  256.00000  int32\n",
      "anchors                  shape: (1, 16368, 4)         min:   -0.70988  max:    1.45890  float32\n",
      "['BBox', 'cls_id', 'conf']\n",
      "Running on ..\\data\\bomb_meiler_barrow_mrcnn\\validation\\x\\1005.tif\n",
      "Processing 1 images\n",
      "image                    shape: (256, 256, 1)         min:    0.00000  max:    1.00000  float32\n",
      "molded_images            shape: (1, 256, 256, 1)      min:    0.00000  max:    1.00000  float64\n",
      "image_metas              shape: (1, 16)               min:    0.00000  max:  256.00000  int32\n",
      "anchors                  shape: (1, 16368, 4)         min:   -0.70988  max:    1.45890  float32\n",
      "['BBox', 'cls_id', 'conf']\n",
      "['BBox', 'cls_id', 'conf']\n",
      "Running on ..\\data\\bomb_meiler_barrow_mrcnn\\validation\\x\\1013.tif\n",
      "Processing 1 images\n",
      "image                    shape: (256, 256, 1)         min:    0.00000  max:    1.00000  float32\n",
      "molded_images            shape: (1, 256, 256, 1)      min:    0.00000  max:    1.00000  float64\n",
      "image_metas              shape: (1, 16)               min:    0.00000  max:  256.00000  int32\n",
      "anchors                  shape: (1, 16368, 4)         min:   -0.70988  max:    1.45890  float32\n",
      "['BBox', 'cls_id', 'conf']\n",
      "['BBox', 'cls_id', 'conf']\n",
      "Running on ..\\data\\bomb_meiler_barrow_mrcnn\\validation\\x\\1025.tif\n",
      "Processing 1 images\n",
      "image                    shape: (256, 256, 1)         min:    0.00000  max:    1.00000  float32\n",
      "molded_images            shape: (1, 256, 256, 1)      min:    0.00000  max:    1.00000  float64\n",
      "image_metas              shape: (1, 16)               min:    0.00000  max:  256.00000  int32\n",
      "anchors                  shape: (1, 16368, 4)         min:   -0.70988  max:    1.45890  float32\n",
      "['BBox', 'cls_id', 'conf']\n",
      "Running on ..\\data\\bomb_meiler_barrow_mrcnn\\validation\\x\\1031.tif\n",
      "Processing 1 images\n",
      "image                    shape: (256, 256, 1)         min:    0.00000  max:    1.00000  float32\n",
      "molded_images            shape: (1, 256, 256, 1)      min:    0.00000  max:    1.00000  float64\n",
      "image_metas              shape: (1, 16)               min:    0.00000  max:  256.00000  int32\n",
      "anchors                  shape: (1, 16368, 4)         min:   -0.70988  max:    1.45890  float32\n",
      "['BBox', 'cls_id', 'conf']\n",
      "Running on ..\\data\\bomb_meiler_barrow_mrcnn\\validation\\x\\1032.tif\n",
      "Processing 1 images\n",
      "image                    shape: (256, 256, 1)         min:    0.00000  max:    1.00000  float32\n",
      "molded_images            shape: (1, 256, 256, 1)      min:    0.00000  max:    1.00000  float64\n",
      "image_metas              shape: (1, 16)               min:    0.00000  max:  256.00000  int32\n",
      "anchors                  shape: (1, 16368, 4)         min:   -0.70988  max:    1.45890  float32\n",
      "['BBox', 'cls_id', 'conf']\n",
      "['BBox', 'cls_id', 'conf']\n",
      "Running on ..\\data\\bomb_meiler_barrow_mrcnn\\validation\\x\\1035.tif\n",
      "Processing 1 images\n",
      "image                    shape: (256, 256, 1)         min:    0.00000  max:    1.00000  float32\n",
      "molded_images            shape: (1, 256, 256, 1)      min:    0.00000  max:    1.00000  float64\n",
      "image_metas              shape: (1, 16)               min:    0.00000  max:  256.00000  int32\n",
      "anchors                  shape: (1, 16368, 4)         min:   -0.70988  max:    1.45890  float32\n",
      "['BBox', 'cls_id', 'conf']\n",
      "['BBox', 'cls_id', 'conf']\n",
      "['BBox', 'cls_id', 'conf']\n",
      "['BBox', 'cls_id', 'conf']\n",
      "['BBox', 'cls_id', 'conf']\n",
      "Running on ..\\data\\bomb_meiler_barrow_mrcnn\\validation\\x\\1040.tif\n",
      "Processing 1 images\n",
      "image                    shape: (256, 256, 1)         min:    0.00000  max:    1.00000  float32\n",
      "molded_images            shape: (1, 256, 256, 1)      min:    0.00000  max:    1.00000  float64\n",
      "image_metas              shape: (1, 16)               min:    0.00000  max:  256.00000  int32\n",
      "anchors                  shape: (1, 16368, 4)         min:   -0.70988  max:    1.45890  float32\n",
      "['BBox', 'cls_id', 'conf']\n",
      "['BBox', 'cls_id', 'conf']\n",
      "['BBox', 'cls_id', 'conf']\n",
      "Running on ..\\data\\bomb_meiler_barrow_mrcnn\\validation\\x\\1087.tif\n",
      "Processing 1 images\n",
      "image                    shape: (256, 256, 1)         min:    0.00000  max:    1.00000  float32\n",
      "molded_images            shape: (1, 256, 256, 1)      min:    0.00000  max:    1.00000  float64\n",
      "image_metas              shape: (1, 16)               min:    0.00000  max:  256.00000  int32\n",
      "anchors                  shape: (1, 16368, 4)         min:   -0.70988  max:    1.45890  float32\n",
      "['BBox', 'cls_id', 'conf']\n",
      "['BBox', 'cls_id', 'conf']\n",
      "['BBox', 'cls_id', 'conf']\n",
      "['BBox', 'cls_id', 'conf']\n",
      "Running on ..\\data\\bomb_meiler_barrow_mrcnn\\validation\\x\\1089.tif\n",
      "Processing 1 images\n",
      "image                    shape: (256, 256, 1)         min:    0.00000  max:    1.00000  float32\n",
      "molded_images            shape: (1, 256, 256, 1)      min:    0.00000  max:    1.00000  float64\n",
      "image_metas              shape: (1, 16)               min:    0.00000  max:  256.00000  int32\n",
      "anchors                  shape: (1, 16368, 4)         min:   -0.70988  max:    1.45890  float32\n",
      "['BBox', 'cls_id', 'conf']\n",
      "Running on ..\\data\\bomb_meiler_barrow_mrcnn\\validation\\x\\1114.tif\n",
      "Processing 1 images\n",
      "image                    shape: (256, 256, 1)         min:    0.00000  max:    1.00000  float32\n",
      "molded_images            shape: (1, 256, 256, 1)      min:    0.00000  max:    1.00000  float64\n",
      "image_metas              shape: (1, 16)               min:    0.00000  max:  256.00000  int32\n",
      "anchors                  shape: (1, 16368, 4)         min:   -0.70988  max:    1.45890  float32\n",
      "['BBox', 'cls_id', 'conf']\n",
      "Running on ..\\data\\bomb_meiler_barrow_mrcnn\\validation\\x\\1123.tif\n",
      "Processing 1 images\n",
      "image                    shape: (256, 256, 1)         min:    0.00000  max:    1.00000  float32\n",
      "molded_images            shape: (1, 256, 256, 1)      min:    0.00000  max:    1.00000  float64\n",
      "image_metas              shape: (1, 16)               min:    0.00000  max:  256.00000  int32\n",
      "anchors                  shape: (1, 16368, 4)         min:   -0.70988  max:    1.45890  float32\n",
      "['BBox', 'cls_id', 'conf']\n",
      "Running on ..\\data\\bomb_meiler_barrow_mrcnn\\validation\\x\\1129.tif\n",
      "Processing 1 images\n",
      "image                    shape: (256, 256, 1)         min:    0.00000  max:    1.00000  float32\n",
      "molded_images            shape: (1, 256, 256, 1)      min:    0.00000  max:    1.00000  float64\n",
      "image_metas              shape: (1, 16)               min:    0.00000  max:  256.00000  int32\n",
      "anchors                  shape: (1, 16368, 4)         min:   -0.70988  max:    1.45890  float32\n",
      "['BBox', 'cls_id', 'conf']\n",
      "Running on ..\\data\\bomb_meiler_barrow_mrcnn\\validation\\x\\1139.tif\n",
      "Processing 1 images\n",
      "image                    shape: (256, 256, 1)         min:    0.00000  max:    1.00000  float32\n",
      "molded_images            shape: (1, 256, 256, 1)      min:    0.00000  max:    1.00000  float64\n",
      "image_metas              shape: (1, 16)               min:    0.00000  max:  256.00000  int32\n",
      "anchors                  shape: (1, 16368, 4)         min:   -0.70988  max:    1.45890  float32\n",
      "['BBox', 'cls_id', 'conf']\n",
      "Running on ..\\data\\bomb_meiler_barrow_mrcnn\\validation\\x\\114.tif\n",
      "Processing 1 images\n",
      "image                    shape: (256, 256, 1)         min:    0.00000  max:    1.00000  float32\n",
      "molded_images            shape: (1, 256, 256, 1)      min:    0.00000  max:    1.00000  float64\n",
      "image_metas              shape: (1, 16)               min:    0.00000  max:  256.00000  int32\n",
      "anchors                  shape: (1, 16368, 4)         min:   -0.70988  max:    1.45890  float32\n",
      "['BBox', 'cls_id', 'conf']\n",
      "['BBox', 'cls_id', 'conf']\n",
      "['BBox', 'cls_id', 'conf']\n",
      "['BBox', 'cls_id', 'conf']\n",
      "['BBox', 'cls_id', 'conf']\n",
      "['BBox', 'cls_id', 'conf']\n",
      "['BBox', 'cls_id', 'conf']\n",
      "['BBox', 'cls_id', 'conf']\n",
      "Running on ..\\data\\bomb_meiler_barrow_mrcnn\\validation\\x\\1152.tif\n",
      "Processing 1 images\n",
      "image                    shape: (256, 256, 1)         min:    0.00000  max:    1.00000  float32\n",
      "molded_images            shape: (1, 256, 256, 1)      min:    0.00000  max:    1.00000  float64\n",
      "image_metas              shape: (1, 16)               min:    0.00000  max:  256.00000  int32\n",
      "anchors                  shape: (1, 16368, 4)         min:   -0.70988  max:    1.45890  float32\n",
      "['BBox', 'cls_id', 'conf']\n",
      "Running on ..\\data\\bomb_meiler_barrow_mrcnn\\validation\\x\\117.tif\n",
      "Processing 1 images\n",
      "image                    shape: (256, 256, 1)         min:    0.00000  max:    1.00000  float32\n",
      "molded_images            shape: (1, 256, 256, 1)      min:    0.00000  max:    1.00000  float64\n",
      "image_metas              shape: (1, 16)               min:    0.00000  max:  256.00000  int32\n",
      "anchors                  shape: (1, 16368, 4)         min:   -0.70988  max:    1.45890  float32\n"
     ]
    },
    {
     "name": "stdout",
     "output_type": "stream",
     "text": [
      "['BBox', 'cls_id', 'conf']\n",
      "['BBox', 'cls_id', 'conf']\n",
      "['BBox', 'cls_id', 'conf']\n",
      "['BBox', 'cls_id', 'conf']\n",
      "Running on ..\\data\\bomb_meiler_barrow_mrcnn\\validation\\x\\1181.tif\n",
      "Processing 1 images\n",
      "image                    shape: (256, 256, 1)         min:    0.00000  max:    1.00000  float32\n",
      "molded_images            shape: (1, 256, 256, 1)      min:    0.00000  max:    1.00000  float64\n",
      "image_metas              shape: (1, 16)               min:    0.00000  max:  256.00000  int32\n",
      "anchors                  shape: (1, 16368, 4)         min:   -0.70988  max:    1.45890  float32\n",
      "['BBox', 'cls_id', 'conf']\n",
      "Running on ..\\data\\bomb_meiler_barrow_mrcnn\\validation\\x\\1202.tif\n",
      "Processing 1 images\n",
      "image                    shape: (256, 256, 1)         min:    0.00000  max:    1.00000  float32\n",
      "molded_images            shape: (1, 256, 256, 1)      min:    0.00000  max:    1.00000  float64\n",
      "image_metas              shape: (1, 16)               min:    0.00000  max:  256.00000  int32\n",
      "anchors                  shape: (1, 16368, 4)         min:   -0.70988  max:    1.45890  float32\n",
      "['BBox', 'cls_id', 'conf']\n",
      "Running on ..\\data\\bomb_meiler_barrow_mrcnn\\validation\\x\\1207.tif\n",
      "Processing 1 images\n",
      "image                    shape: (256, 256, 1)         min:    0.00000  max:    1.00000  float32\n",
      "molded_images            shape: (1, 256, 256, 1)      min:    0.00000  max:    1.00000  float64\n",
      "image_metas              shape: (1, 16)               min:    0.00000  max:  256.00000  int32\n",
      "anchors                  shape: (1, 16368, 4)         min:   -0.70988  max:    1.45890  float32\n",
      "['BBox', 'cls_id', 'conf']\n",
      "Running on ..\\data\\bomb_meiler_barrow_mrcnn\\validation\\x\\1208.tif\n",
      "Processing 1 images\n",
      "image                    shape: (256, 256, 1)         min:    0.00000  max:    1.00000  float32\n",
      "molded_images            shape: (1, 256, 256, 1)      min:    0.00000  max:    1.00000  float64\n",
      "image_metas              shape: (1, 16)               min:    0.00000  max:  256.00000  int32\n",
      "anchors                  shape: (1, 16368, 4)         min:   -0.70988  max:    1.45890  float32\n",
      "['BBox', 'cls_id', 'conf']\n",
      "Running on ..\\data\\bomb_meiler_barrow_mrcnn\\validation\\x\\1213.tif\n",
      "Processing 1 images\n",
      "image                    shape: (256, 256, 1)         min:    0.00000  max:    1.00000  float32\n",
      "molded_images            shape: (1, 256, 256, 1)      min:    0.00000  max:    1.00000  float64\n",
      "image_metas              shape: (1, 16)               min:    0.00000  max:  256.00000  int32\n",
      "anchors                  shape: (1, 16368, 4)         min:   -0.70988  max:    1.45890  float32\n",
      "['BBox', 'cls_id', 'conf']\n",
      "Running on ..\\data\\bomb_meiler_barrow_mrcnn\\validation\\x\\1216.tif\n",
      "Processing 1 images\n",
      "image                    shape: (256, 256, 1)         min:    0.00000  max:    1.00000  float32\n",
      "molded_images            shape: (1, 256, 256, 1)      min:    0.00000  max:    1.00000  float64\n",
      "image_metas              shape: (1, 16)               min:    0.00000  max:  256.00000  int32\n",
      "anchors                  shape: (1, 16368, 4)         min:   -0.70988  max:    1.45890  float32\n",
      "['BBox', 'cls_id', 'conf']\n",
      "Running on ..\\data\\bomb_meiler_barrow_mrcnn\\validation\\x\\1224.tif\n",
      "Processing 1 images\n",
      "image                    shape: (256, 256, 1)         min:    0.00000  max:    1.00000  float32\n",
      "molded_images            shape: (1, 256, 256, 1)      min:    0.00000  max:    1.00000  float64\n",
      "image_metas              shape: (1, 16)               min:    0.00000  max:  256.00000  int32\n",
      "anchors                  shape: (1, 16368, 4)         min:   -0.70988  max:    1.45890  float32\n",
      "['BBox', 'cls_id', 'conf']\n",
      "Running on ..\\data\\bomb_meiler_barrow_mrcnn\\validation\\x\\1230.tif\n",
      "Processing 1 images\n",
      "image                    shape: (256, 256, 1)         min:    0.00000  max:    1.00000  float32\n",
      "molded_images            shape: (1, 256, 256, 1)      min:    0.00000  max:    1.00000  float64\n",
      "image_metas              shape: (1, 16)               min:    0.00000  max:  256.00000  int32\n",
      "anchors                  shape: (1, 16368, 4)         min:   -0.70988  max:    1.45890  float32\n",
      "['BBox', 'cls_id', 'conf']\n",
      "Running on ..\\data\\bomb_meiler_barrow_mrcnn\\validation\\x\\1234.tif\n",
      "Processing 1 images\n",
      "image                    shape: (256, 256, 1)         min:    0.00000  max:    1.00000  float32\n",
      "molded_images            shape: (1, 256, 256, 1)      min:    0.00000  max:    1.00000  float64\n",
      "image_metas              shape: (1, 16)               min:    0.00000  max:  256.00000  int32\n",
      "anchors                  shape: (1, 16368, 4)         min:   -0.70988  max:    1.45890  float32\n",
      "['BBox', 'cls_id', 'conf']\n",
      "Running on ..\\data\\bomb_meiler_barrow_mrcnn\\validation\\x\\1263.tif\n",
      "Processing 1 images\n",
      "image                    shape: (256, 256, 1)         min:    0.00000  max:    1.00000  float32\n",
      "molded_images            shape: (1, 256, 256, 1)      min:    0.00000  max:    1.00000  float64\n",
      "image_metas              shape: (1, 16)               min:    0.00000  max:  256.00000  int32\n",
      "anchors                  shape: (1, 16368, 4)         min:   -0.70988  max:    1.45890  float32\n",
      "['BBox', 'cls_id', 'conf']\n",
      "Running on ..\\data\\bomb_meiler_barrow_mrcnn\\validation\\x\\1276.tif\n",
      "Processing 1 images\n",
      "image                    shape: (256, 256, 1)         min:    0.00000  max:    1.00000  float32\n",
      "molded_images            shape: (1, 256, 256, 1)      min:    0.00000  max:    1.00000  float64\n",
      "image_metas              shape: (1, 16)               min:    0.00000  max:  256.00000  int32\n",
      "anchors                  shape: (1, 16368, 4)         min:   -0.70988  max:    1.45890  float32\n",
      "['BBox', 'cls_id', 'conf']\n",
      "['BBox', 'cls_id', 'conf']\n",
      "Running on ..\\data\\bomb_meiler_barrow_mrcnn\\validation\\x\\1283.tif\n",
      "Processing 1 images\n",
      "image                    shape: (256, 256, 1)         min:    0.00000  max:    1.00000  float32\n",
      "molded_images            shape: (1, 256, 256, 1)      min:    0.00000  max:    1.00000  float64\n",
      "image_metas              shape: (1, 16)               min:    0.00000  max:  256.00000  int32\n",
      "anchors                  shape: (1, 16368, 4)         min:   -0.70988  max:    1.45890  float32\n",
      "['BBox', 'cls_id', 'conf']\n",
      "Running on ..\\data\\bomb_meiler_barrow_mrcnn\\validation\\x\\1294.tif\n",
      "Processing 1 images\n",
      "image                    shape: (256, 256, 1)         min:    0.00000  max:    1.00000  float32\n",
      "molded_images            shape: (1, 256, 256, 1)      min:    0.00000  max:    1.00000  float64\n",
      "image_metas              shape: (1, 16)               min:    0.00000  max:  256.00000  int32\n",
      "anchors                  shape: (1, 16368, 4)         min:   -0.70988  max:    1.45890  float32\n",
      "['BBox', 'cls_id', 'conf']\n",
      "Running on ..\\data\\bomb_meiler_barrow_mrcnn\\validation\\x\\1315.tif\n",
      "Processing 1 images\n",
      "image                    shape: (256, 256, 1)         min:    0.00000  max:    1.00000  float32\n",
      "molded_images            shape: (1, 256, 256, 1)      min:    0.00000  max:    1.00000  float64\n",
      "image_metas              shape: (1, 16)               min:    0.00000  max:  256.00000  int32\n",
      "anchors                  shape: (1, 16368, 4)         min:   -0.70988  max:    1.45890  float32\n",
      "['BBox', 'cls_id', 'conf']\n",
      "Running on ..\\data\\bomb_meiler_barrow_mrcnn\\validation\\x\\1325.tif\n",
      "Processing 1 images\n",
      "image                    shape: (256, 256, 1)         min:    0.00000  max:    1.00000  float32\n",
      "molded_images            shape: (1, 256, 256, 1)      min:    0.00000  max:    1.00000  float64\n",
      "image_metas              shape: (1, 16)               min:    0.00000  max:  256.00000  int32\n",
      "anchors                  shape: (1, 16368, 4)         min:   -0.70988  max:    1.45890  float32\n",
      "['BBox', 'cls_id', 'conf']\n",
      "Running on ..\\data\\bomb_meiler_barrow_mrcnn\\validation\\x\\1326.tif\n",
      "Processing 1 images\n",
      "image                    shape: (256, 256, 1)         min:    0.00000  max:    1.00000  float32\n",
      "molded_images            shape: (1, 256, 256, 1)      min:    0.00000  max:    1.00000  float64\n",
      "image_metas              shape: (1, 16)               min:    0.00000  max:  256.00000  int32\n",
      "anchors                  shape: (1, 16368, 4)         min:   -0.70988  max:    1.45890  float32\n",
      "['BBox', 'cls_id', 'conf']\n",
      "Running on ..\\data\\bomb_meiler_barrow_mrcnn\\validation\\x\\1350.tif\n",
      "Processing 1 images\n",
      "image                    shape: (256, 256, 1)         min:    0.00000  max:    1.00000  float32\n",
      "molded_images            shape: (1, 256, 256, 1)      min:    0.00000  max:    1.00000  float64\n",
      "image_metas              shape: (1, 16)               min:    0.00000  max:  256.00000  int32\n",
      "anchors                  shape: (1, 16368, 4)         min:   -0.70988  max:    1.45890  float32\n"
     ]
    },
    {
     "name": "stdout",
     "output_type": "stream",
     "text": [
      "['BBox', 'cls_id', 'conf']\n",
      "Running on ..\\data\\bomb_meiler_barrow_mrcnn\\validation\\x\\1359.tif\n",
      "Processing 1 images\n",
      "image                    shape: (256, 256, 1)         min:    0.00000  max:    1.00000  float32\n",
      "molded_images            shape: (1, 256, 256, 1)      min:    0.00000  max:    1.00000  float64\n",
      "image_metas              shape: (1, 16)               min:    0.00000  max:  256.00000  int32\n",
      "anchors                  shape: (1, 16368, 4)         min:   -0.70988  max:    1.45890  float32\n",
      "['BBox', 'cls_id', 'conf']\n",
      "Running on ..\\data\\bomb_meiler_barrow_mrcnn\\validation\\x\\1375.tif\n",
      "Processing 1 images\n",
      "image                    shape: (256, 256, 1)         min:    0.00000  max:    1.00000  float32\n",
      "molded_images            shape: (1, 256, 256, 1)      min:    0.00000  max:    1.00000  float64\n",
      "image_metas              shape: (1, 16)               min:    0.00000  max:  256.00000  int32\n",
      "anchors                  shape: (1, 16368, 4)         min:   -0.70988  max:    1.45890  float32\n",
      "['BBox', 'cls_id', 'conf']\n",
      "Running on ..\\data\\bomb_meiler_barrow_mrcnn\\validation\\x\\1386.tif\n",
      "Processing 1 images\n",
      "image                    shape: (256, 256, 1)         min:    0.00000  max:    1.00000  float32\n",
      "molded_images            shape: (1, 256, 256, 1)      min:    0.00000  max:    1.00000  float64\n",
      "image_metas              shape: (1, 16)               min:    0.00000  max:  256.00000  int32\n",
      "anchors                  shape: (1, 16368, 4)         min:   -0.70988  max:    1.45890  float32\n",
      "['BBox', 'cls_id', 'conf']\n",
      "Running on ..\\data\\bomb_meiler_barrow_mrcnn\\validation\\x\\1394.tif\n",
      "Processing 1 images\n",
      "image                    shape: (256, 256, 1)         min:    0.00000  max:    1.00000  float32\n",
      "molded_images            shape: (1, 256, 256, 1)      min:    0.00000  max:    1.00000  float64\n",
      "image_metas              shape: (1, 16)               min:    0.00000  max:  256.00000  int32\n",
      "anchors                  shape: (1, 16368, 4)         min:   -0.70988  max:    1.45890  float32\n",
      "['BBox', 'cls_id', 'conf']\n",
      "Running on ..\\data\\bomb_meiler_barrow_mrcnn\\validation\\x\\159.tif\n",
      "Processing 1 images\n",
      "image                    shape: (256, 256, 1)         min:    0.00000  max:    1.00000  float32\n",
      "molded_images            shape: (1, 256, 256, 1)      min:    0.00000  max:    1.00000  float64\n",
      "image_metas              shape: (1, 16)               min:    0.00000  max:  256.00000  int32\n",
      "anchors                  shape: (1, 16368, 4)         min:   -0.70988  max:    1.45890  float32\n",
      "['BBox', 'cls_id', 'conf']\n",
      "['BBox', 'cls_id', 'conf']\n",
      "['BBox', 'cls_id', 'conf']\n",
      "['BBox', 'cls_id', 'conf']\n",
      "['BBox', 'cls_id', 'conf']\n",
      "['BBox', 'cls_id', 'conf']\n",
      "['BBox', 'cls_id', 'conf']\n",
      "['BBox', 'cls_id', 'conf']\n",
      "['BBox', 'cls_id', 'conf']\n",
      "Running on ..\\data\\bomb_meiler_barrow_mrcnn\\validation\\x\\173.tif\n",
      "Processing 1 images\n",
      "image                    shape: (256, 256, 1)         min:    0.00000  max:    1.00000  float32\n",
      "molded_images            shape: (1, 256, 256, 1)      min:    0.00000  max:    1.00000  float64\n",
      "image_metas              shape: (1, 16)               min:    0.00000  max:  256.00000  int32\n",
      "anchors                  shape: (1, 16368, 4)         min:   -0.70988  max:    1.45890  float32\n",
      "['BBox', 'cls_id', 'conf']\n",
      "['BBox', 'cls_id', 'conf']\n",
      "['BBox', 'cls_id', 'conf']\n",
      "['BBox', 'cls_id', 'conf']\n",
      "['BBox', 'cls_id', 'conf']\n",
      "['BBox', 'cls_id', 'conf']\n",
      "['BBox', 'cls_id', 'conf']\n",
      "['BBox', 'cls_id', 'conf']\n",
      "Running on ..\\data\\bomb_meiler_barrow_mrcnn\\validation\\x\\176.tif\n",
      "Processing 1 images\n",
      "image                    shape: (256, 256, 1)         min:    0.00000  max:    1.00000  float32\n",
      "molded_images            shape: (1, 256, 256, 1)      min:    0.00000  max:    1.00000  float64\n",
      "image_metas              shape: (1, 16)               min:    0.00000  max:  256.00000  int32\n",
      "anchors                  shape: (1, 16368, 4)         min:   -0.70988  max:    1.45890  float32\n",
      "['BBox', 'cls_id', 'conf']\n",
      "['BBox', 'cls_id', 'conf']\n",
      "['BBox', 'cls_id', 'conf']\n",
      "['BBox', 'cls_id', 'conf']\n",
      "['BBox', 'cls_id', 'conf']\n",
      "['BBox', 'cls_id', 'conf']\n",
      "Running on ..\\data\\bomb_meiler_barrow_mrcnn\\validation\\x\\184.tif\n",
      "Processing 1 images\n",
      "image                    shape: (256, 256, 1)         min:    0.00000  max:    1.00000  float32\n",
      "molded_images            shape: (1, 256, 256, 1)      min:    0.00000  max:    1.00000  float64\n",
      "image_metas              shape: (1, 16)               min:    0.00000  max:  256.00000  int32\n",
      "anchors                  shape: (1, 16368, 4)         min:   -0.70988  max:    1.45890  float32\n",
      "['BBox', 'cls_id', 'conf']\n",
      "['BBox', 'cls_id', 'conf']\n",
      "['BBox', 'cls_id', 'conf']\n",
      "['BBox', 'cls_id', 'conf']\n",
      "['BBox', 'cls_id', 'conf']\n",
      "['BBox', 'cls_id', 'conf']\n",
      "Running on ..\\data\\bomb_meiler_barrow_mrcnn\\validation\\x\\192.tif\n",
      "Processing 1 images\n",
      "image                    shape: (256, 256, 1)         min:    0.00000  max:    1.00000  float32\n",
      "molded_images            shape: (1, 256, 256, 1)      min:    0.00000  max:    1.00000  float64\n",
      "image_metas              shape: (1, 16)               min:    0.00000  max:  256.00000  int32\n",
      "anchors                  shape: (1, 16368, 4)         min:   -0.70988  max:    1.45890  float32\n",
      "['BBox', 'cls_id', 'conf']\n",
      "['BBox', 'cls_id', 'conf']\n",
      "['BBox', 'cls_id', 'conf']\n",
      "Running on ..\\data\\bomb_meiler_barrow_mrcnn\\validation\\x\\20.tif\n",
      "Processing 1 images\n",
      "image                    shape: (256, 256, 1)         min:    0.00000  max:    1.00000  float32\n",
      "molded_images            shape: (1, 256, 256, 1)      min:    0.00000  max:    1.00000  float64\n",
      "image_metas              shape: (1, 16)               min:    0.00000  max:  256.00000  int32\n",
      "anchors                  shape: (1, 16368, 4)         min:   -0.70988  max:    1.45890  float32\n",
      "['BBox', 'cls_id', 'conf']\n",
      "['BBox', 'cls_id', 'conf']\n",
      "['BBox', 'cls_id', 'conf']\n",
      "['BBox', 'cls_id', 'conf']\n",
      "['BBox', 'cls_id', 'conf']\n",
      "['BBox', 'cls_id', 'conf']\n",
      "Running on ..\\data\\bomb_meiler_barrow_mrcnn\\validation\\x\\204.tif\n",
      "Processing 1 images\n",
      "image                    shape: (256, 256, 1)         min:    0.00000  max:    1.00000  float32\n",
      "molded_images            shape: (1, 256, 256, 1)      min:    0.00000  max:    1.00000  float64\n",
      "image_metas              shape: (1, 16)               min:    0.00000  max:  256.00000  int32\n",
      "anchors                  shape: (1, 16368, 4)         min:   -0.70988  max:    1.45890  float32\n",
      "['BBox', 'cls_id', 'conf']\n",
      "['BBox', 'cls_id', 'conf']\n",
      "['BBox', 'cls_id', 'conf']\n",
      "['BBox', 'cls_id', 'conf']\n",
      "Running on ..\\data\\bomb_meiler_barrow_mrcnn\\validation\\x\\216.tif\n",
      "Processing 1 images\n",
      "image                    shape: (256, 256, 1)         min:    0.00000  max:    1.00000  float32\n",
      "molded_images            shape: (1, 256, 256, 1)      min:    0.00000  max:    1.00000  float64\n",
      "image_metas              shape: (1, 16)               min:    0.00000  max:  256.00000  int32\n",
      "anchors                  shape: (1, 16368, 4)         min:   -0.70988  max:    1.45890  float32\n",
      "['BBox', 'cls_id', 'conf']\n",
      "['BBox', 'cls_id', 'conf']\n",
      "['BBox', 'cls_id', 'conf']\n",
      "['BBox', 'cls_id', 'conf']\n",
      "['BBox', 'cls_id', 'conf']\n",
      "['BBox', 'cls_id', 'conf']\n",
      "['BBox', 'cls_id', 'conf']\n",
      "['BBox', 'cls_id', 'conf']\n",
      "['BBox', 'cls_id', 'conf']\n",
      "['BBox', 'cls_id', 'conf']\n",
      "Running on ..\\data\\bomb_meiler_barrow_mrcnn\\validation\\x\\233.tif\n",
      "Processing 1 images\n",
      "image                    shape: (256, 256, 1)         min:    0.00000  max:    1.00000  float32\n",
      "molded_images            shape: (1, 256, 256, 1)      min:    0.00000  max:    1.00000  float64\n",
      "image_metas              shape: (1, 16)               min:    0.00000  max:  256.00000  int32\n",
      "anchors                  shape: (1, 16368, 4)         min:   -0.70988  max:    1.45890  float32\n",
      "['BBox', 'cls_id', 'conf']\n",
      "['BBox', 'cls_id', 'conf']\n",
      "Running on ..\\data\\bomb_meiler_barrow_mrcnn\\validation\\x\\238.tif\n",
      "Processing 1 images\n",
      "image                    shape: (256, 256, 1)         min:    0.00000  max:    1.00000  float32\n",
      "molded_images            shape: (1, 256, 256, 1)      min:    0.00000  max:    1.00000  float64\n",
      "image_metas              shape: (1, 16)               min:    0.00000  max:  256.00000  int32\n",
      "anchors                  shape: (1, 16368, 4)         min:   -0.70988  max:    1.45890  float32\n",
      "['BBox', 'cls_id', 'conf']\n",
      "['BBox', 'cls_id', 'conf']\n",
      "['BBox', 'cls_id', 'conf']\n",
      "['BBox', 'cls_id', 'conf']\n",
      "['BBox', 'cls_id', 'conf']\n"
     ]
    },
    {
     "name": "stdout",
     "output_type": "stream",
     "text": [
      "Running on ..\\data\\bomb_meiler_barrow_mrcnn\\validation\\x\\242.tif\n",
      "Processing 1 images\n",
      "image                    shape: (256, 256, 1)         min:    0.00000  max:    1.00000  float32\n",
      "molded_images            shape: (1, 256, 256, 1)      min:    0.00000  max:    1.00000  float64\n",
      "image_metas              shape: (1, 16)               min:    0.00000  max:  256.00000  int32\n",
      "anchors                  shape: (1, 16368, 4)         min:   -0.70988  max:    1.45890  float32\n",
      "['BBox', 'cls_id', 'conf']\n",
      "Running on ..\\data\\bomb_meiler_barrow_mrcnn\\validation\\x\\248.tif\n",
      "Processing 1 images\n",
      "image                    shape: (256, 256, 1)         min:    0.00000  max:    1.00000  float32\n",
      "molded_images            shape: (1, 256, 256, 1)      min:    0.00000  max:    1.00000  float64\n",
      "image_metas              shape: (1, 16)               min:    0.00000  max:  256.00000  int32\n",
      "anchors                  shape: (1, 16368, 4)         min:   -0.70988  max:    1.45890  float32\n",
      "['BBox', 'cls_id', 'conf']\n",
      "['BBox', 'cls_id', 'conf']\n",
      "['BBox', 'cls_id', 'conf']\n",
      "['BBox', 'cls_id', 'conf']\n",
      "['BBox', 'cls_id', 'conf']\n",
      "Running on ..\\data\\bomb_meiler_barrow_mrcnn\\validation\\x\\259.tif\n",
      "Processing 1 images\n",
      "image                    shape: (256, 256, 1)         min:    0.00000  max:    1.00000  float32\n",
      "molded_images            shape: (1, 256, 256, 1)      min:    0.00000  max:    1.00000  float64\n",
      "image_metas              shape: (1, 16)               min:    0.00000  max:  256.00000  int32\n",
      "anchors                  shape: (1, 16368, 4)         min:   -0.70988  max:    1.45890  float32\n",
      "['BBox', 'cls_id', 'conf']\n",
      "['BBox', 'cls_id', 'conf']\n",
      "['BBox', 'cls_id', 'conf']\n",
      "['BBox', 'cls_id', 'conf']\n",
      "['BBox', 'cls_id', 'conf']\n",
      "['BBox', 'cls_id', 'conf']\n",
      "['BBox', 'cls_id', 'conf']\n",
      "['BBox', 'cls_id', 'conf']\n",
      "['BBox', 'cls_id', 'conf']\n",
      "['BBox', 'cls_id', 'conf']\n",
      "Running on ..\\data\\bomb_meiler_barrow_mrcnn\\validation\\x\\294.tif\n",
      "Processing 1 images\n",
      "image                    shape: (256, 256, 1)         min:    0.00000  max:    1.00000  float32\n",
      "molded_images            shape: (1, 256, 256, 1)      min:    0.00000  max:    1.00000  float64\n",
      "image_metas              shape: (1, 16)               min:    0.00000  max:  256.00000  int32\n",
      "anchors                  shape: (1, 16368, 4)         min:   -0.70988  max:    1.45890  float32\n",
      "['BBox', 'cls_id', 'conf']\n",
      "['BBox', 'cls_id', 'conf']\n",
      "['BBox', 'cls_id', 'conf']\n",
      "['BBox', 'cls_id', 'conf']\n",
      "Running on ..\\data\\bomb_meiler_barrow_mrcnn\\validation\\x\\300.tif\n",
      "Processing 1 images\n",
      "image                    shape: (256, 256, 1)         min:    0.00000  max:    1.00000  float32\n",
      "molded_images            shape: (1, 256, 256, 1)      min:    0.00000  max:    1.00000  float64\n",
      "image_metas              shape: (1, 16)               min:    0.00000  max:  256.00000  int32\n",
      "anchors                  shape: (1, 16368, 4)         min:   -0.70988  max:    1.45890  float32\n",
      "['BBox', 'cls_id', 'conf']\n",
      "['BBox', 'cls_id', 'conf']\n",
      "['BBox', 'cls_id', 'conf']\n",
      "Running on ..\\data\\bomb_meiler_barrow_mrcnn\\validation\\x\\307.tif\n",
      "Processing 1 images\n",
      "image                    shape: (256, 256, 1)         min:    0.00000  max:    1.00000  float32\n",
      "molded_images            shape: (1, 256, 256, 1)      min:    0.00000  max:    1.00000  float64\n",
      "image_metas              shape: (1, 16)               min:    0.00000  max:  256.00000  int32\n",
      "anchors                  shape: (1, 16368, 4)         min:   -0.70988  max:    1.45890  float32\n",
      "['BBox', 'cls_id', 'conf']\n",
      "['BBox', 'cls_id', 'conf']\n",
      "Running on ..\\data\\bomb_meiler_barrow_mrcnn\\validation\\x\\317.tif\n",
      "Processing 1 images\n",
      "image                    shape: (256, 256, 1)         min:    0.00000  max:    1.00000  float32\n",
      "molded_images            shape: (1, 256, 256, 1)      min:    0.00000  max:    1.00000  float64\n",
      "image_metas              shape: (1, 16)               min:    0.00000  max:  256.00000  int32\n",
      "anchors                  shape: (1, 16368, 4)         min:   -0.70988  max:    1.45890  float32\n",
      "['BBox', 'cls_id', 'conf']\n",
      "['BBox', 'cls_id', 'conf']\n",
      "['BBox', 'cls_id', 'conf']\n",
      "['BBox', 'cls_id', 'conf']\n",
      "['BBox', 'cls_id', 'conf']\n",
      "['BBox', 'cls_id', 'conf']\n",
      "Running on ..\\data\\bomb_meiler_barrow_mrcnn\\validation\\x\\328.tif\n",
      "Processing 1 images\n",
      "image                    shape: (256, 256, 1)         min:    0.00000  max:    1.00000  float32\n",
      "molded_images            shape: (1, 256, 256, 1)      min:    0.00000  max:    1.00000  float64\n",
      "image_metas              shape: (1, 16)               min:    0.00000  max:  256.00000  int32\n",
      "anchors                  shape: (1, 16368, 4)         min:   -0.70988  max:    1.45890  float32\n",
      "['BBox', 'cls_id', 'conf']\n",
      "['BBox', 'cls_id', 'conf']\n",
      "['BBox', 'cls_id', 'conf']\n",
      "['BBox', 'cls_id', 'conf']\n",
      "Running on ..\\data\\bomb_meiler_barrow_mrcnn\\validation\\x\\346.tif\n",
      "Processing 1 images\n",
      "image                    shape: (256, 256, 1)         min:    0.00000  max:    1.00000  float32\n",
      "molded_images            shape: (1, 256, 256, 1)      min:    0.00000  max:    1.00000  float64\n",
      "image_metas              shape: (1, 16)               min:    0.00000  max:  256.00000  int32\n",
      "anchors                  shape: (1, 16368, 4)         min:   -0.70988  max:    1.45890  float32\n",
      "['BBox', 'cls_id', 'conf']\n",
      "['BBox', 'cls_id', 'conf']\n",
      "Running on ..\\data\\bomb_meiler_barrow_mrcnn\\validation\\x\\347.tif\n",
      "Processing 1 images\n",
      "image                    shape: (256, 256, 1)         min:    0.00000  max:    1.00000  float32\n",
      "molded_images            shape: (1, 256, 256, 1)      min:    0.00000  max:    1.00000  float64\n",
      "image_metas              shape: (1, 16)               min:    0.00000  max:  256.00000  int32\n",
      "anchors                  shape: (1, 16368, 4)         min:   -0.70988  max:    1.45890  float32\n",
      "['BBox', 'cls_id', 'conf']\n",
      "['BBox', 'cls_id', 'conf']\n",
      "['BBox', 'cls_id', 'conf']\n",
      "['BBox', 'cls_id', 'conf']\n",
      "['BBox', 'cls_id', 'conf']\n",
      "Running on ..\\data\\bomb_meiler_barrow_mrcnn\\validation\\x\\35.tif\n",
      "Processing 1 images\n",
      "image                    shape: (256, 256, 1)         min:    0.00000  max:    1.00000  float32\n",
      "molded_images            shape: (1, 256, 256, 1)      min:    0.00000  max:    1.00000  float64\n",
      "image_metas              shape: (1, 16)               min:    0.00000  max:  256.00000  int32\n",
      "anchors                  shape: (1, 16368, 4)         min:   -0.70988  max:    1.45890  float32\n",
      "['BBox', 'cls_id', 'conf']\n",
      "['BBox', 'cls_id', 'conf']\n",
      "['BBox', 'cls_id', 'conf']\n",
      "['BBox', 'cls_id', 'conf']\n",
      "['BBox', 'cls_id', 'conf']\n",
      "Running on ..\\data\\bomb_meiler_barrow_mrcnn\\validation\\x\\359.tif\n",
      "Processing 1 images\n",
      "image                    shape: (256, 256, 1)         min:    0.00000  max:    1.00000  float32\n",
      "molded_images            shape: (1, 256, 256, 1)      min:    0.00000  max:    1.00000  float64\n",
      "image_metas              shape: (1, 16)               min:    0.00000  max:  256.00000  int32\n",
      "anchors                  shape: (1, 16368, 4)         min:   -0.70988  max:    1.45890  float32\n",
      "['BBox', 'cls_id', 'conf']\n",
      "['BBox', 'cls_id', 'conf']\n",
      "Running on ..\\data\\bomb_meiler_barrow_mrcnn\\validation\\x\\360.tif\n",
      "Processing 1 images\n",
      "image                    shape: (256, 256, 1)         min:    0.00000  max:    1.00000  float32\n",
      "molded_images            shape: (1, 256, 256, 1)      min:    0.00000  max:    1.00000  float64\n",
      "image_metas              shape: (1, 16)               min:    0.00000  max:  256.00000  int32\n",
      "anchors                  shape: (1, 16368, 4)         min:   -0.70988  max:    1.45890  float32\n",
      "['BBox', 'cls_id', 'conf']\n",
      "['BBox', 'cls_id', 'conf']\n",
      "['BBox', 'cls_id', 'conf']\n",
      "Running on ..\\data\\bomb_meiler_barrow_mrcnn\\validation\\x\\372.tif\n",
      "Processing 1 images\n",
      "image                    shape: (256, 256, 1)         min:    0.00000  max:    1.00000  float32\n",
      "molded_images            shape: (1, 256, 256, 1)      min:    0.00000  max:    1.00000  float64\n",
      "image_metas              shape: (1, 16)               min:    0.00000  max:  256.00000  int32\n",
      "anchors                  shape: (1, 16368, 4)         min:   -0.70988  max:    1.45890  float32\n",
      "['BBox', 'cls_id', 'conf']\n",
      "Running on ..\\data\\bomb_meiler_barrow_mrcnn\\validation\\x\\382.tif\n",
      "Processing 1 images\n",
      "image                    shape: (256, 256, 1)         min:    0.00000  max:    1.00000  float32\n",
      "molded_images            shape: (1, 256, 256, 1)      min:    0.00000  max:    1.00000  float64\n",
      "image_metas              shape: (1, 16)               min:    0.00000  max:  256.00000  int32\n",
      "anchors                  shape: (1, 16368, 4)         min:   -0.70988  max:    1.45890  float32\n"
     ]
    },
    {
     "name": "stdout",
     "output_type": "stream",
     "text": [
      "['BBox', 'cls_id', 'conf']\n",
      "Running on ..\\data\\bomb_meiler_barrow_mrcnn\\validation\\x\\393.tif\n",
      "Processing 1 images\n",
      "image                    shape: (256, 256, 1)         min:    0.00000  max:    1.00000  float32\n",
      "molded_images            shape: (1, 256, 256, 1)      min:    0.00000  max:    1.00000  float64\n",
      "image_metas              shape: (1, 16)               min:    0.00000  max:  256.00000  int32\n",
      "anchors                  shape: (1, 16368, 4)         min:   -0.70988  max:    1.45890  float32\n",
      "['BBox', 'cls_id', 'conf']\n",
      "['BBox', 'cls_id', 'conf']\n",
      "Running on ..\\data\\bomb_meiler_barrow_mrcnn\\validation\\x\\396.tif\n",
      "Processing 1 images\n",
      "image                    shape: (256, 256, 1)         min:    0.00000  max:    1.00000  float32\n",
      "molded_images            shape: (1, 256, 256, 1)      min:    0.00000  max:    1.00000  float64\n",
      "image_metas              shape: (1, 16)               min:    0.00000  max:  256.00000  int32\n",
      "anchors                  shape: (1, 16368, 4)         min:   -0.70988  max:    1.45890  float32\n",
      "['BBox', 'cls_id', 'conf']\n",
      "Running on ..\\data\\bomb_meiler_barrow_mrcnn\\validation\\x\\40.tif\n",
      "Processing 1 images\n",
      "image                    shape: (256, 256, 1)         min:    0.00000  max:    1.00000  float32\n",
      "molded_images            shape: (1, 256, 256, 1)      min:    0.00000  max:    1.00000  float64\n",
      "image_metas              shape: (1, 16)               min:    0.00000  max:  256.00000  int32\n",
      "anchors                  shape: (1, 16368, 4)         min:   -0.70988  max:    1.45890  float32\n",
      "['BBox', 'cls_id', 'conf']\n",
      "['BBox', 'cls_id', 'conf']\n",
      "['BBox', 'cls_id', 'conf']\n",
      "Running on ..\\data\\bomb_meiler_barrow_mrcnn\\validation\\x\\432.tif\n",
      "Processing 1 images\n",
      "image                    shape: (256, 256, 1)         min:    0.00000  max:    1.00000  float32\n",
      "molded_images            shape: (1, 256, 256, 1)      min:    0.00000  max:    1.00000  float64\n",
      "image_metas              shape: (1, 16)               min:    0.00000  max:  256.00000  int32\n",
      "anchors                  shape: (1, 16368, 4)         min:   -0.70988  max:    1.45890  float32\n",
      "['BBox', 'cls_id', 'conf']\n",
      "Running on ..\\data\\bomb_meiler_barrow_mrcnn\\validation\\x\\436.tif\n",
      "Processing 1 images\n",
      "image                    shape: (256, 256, 1)         min:    0.00000  max:    1.00000  float32\n",
      "molded_images            shape: (1, 256, 256, 1)      min:    0.00000  max:    1.00000  float64\n",
      "image_metas              shape: (1, 16)               min:    0.00000  max:  256.00000  int32\n",
      "anchors                  shape: (1, 16368, 4)         min:   -0.70988  max:    1.45890  float32\n",
      "['BBox', 'cls_id', 'conf']\n",
      "Running on ..\\data\\bomb_meiler_barrow_mrcnn\\validation\\x\\439.tif\n",
      "Processing 1 images\n",
      "image                    shape: (256, 256, 1)         min:    0.00000  max:    1.00000  float32\n",
      "molded_images            shape: (1, 256, 256, 1)      min:    0.00000  max:    1.00000  float64\n",
      "image_metas              shape: (1, 16)               min:    0.00000  max:  256.00000  int32\n",
      "anchors                  shape: (1, 16368, 4)         min:   -0.70988  max:    1.45890  float32\n",
      "['BBox', 'cls_id', 'conf']\n",
      "Running on ..\\data\\bomb_meiler_barrow_mrcnn\\validation\\x\\440.tif\n",
      "Processing 1 images\n",
      "image                    shape: (256, 256, 1)         min:    0.00000  max:    1.00000  float32\n",
      "molded_images            shape: (1, 256, 256, 1)      min:    0.00000  max:    1.00000  float64\n",
      "image_metas              shape: (1, 16)               min:    0.00000  max:  256.00000  int32\n",
      "anchors                  shape: (1, 16368, 4)         min:   -0.70988  max:    1.45890  float32\n",
      "['BBox', 'cls_id', 'conf']\n",
      "Running on ..\\data\\bomb_meiler_barrow_mrcnn\\validation\\x\\441.tif\n",
      "Processing 1 images\n",
      "image                    shape: (256, 256, 1)         min:    0.00000  max:    1.00000  float32\n",
      "molded_images            shape: (1, 256, 256, 1)      min:    0.00000  max:    1.00000  float64\n",
      "image_metas              shape: (1, 16)               min:    0.00000  max:  256.00000  int32\n",
      "anchors                  shape: (1, 16368, 4)         min:   -0.70988  max:    1.45890  float32\n",
      "['BBox', 'cls_id', 'conf']\n",
      "Running on ..\\data\\bomb_meiler_barrow_mrcnn\\validation\\x\\452.tif\n",
      "Processing 1 images\n",
      "image                    shape: (256, 256, 1)         min:    0.00000  max:    1.00000  float32\n",
      "molded_images            shape: (1, 256, 256, 1)      min:    0.00000  max:    1.00000  float64\n",
      "image_metas              shape: (1, 16)               min:    0.00000  max:  256.00000  int32\n",
      "anchors                  shape: (1, 16368, 4)         min:   -0.70988  max:    1.45890  float32\n",
      "['BBox', 'cls_id', 'conf']\n",
      "Running on ..\\data\\bomb_meiler_barrow_mrcnn\\validation\\x\\458.tif\n",
      "Processing 1 images\n",
      "image                    shape: (256, 256, 1)         min:    0.00000  max:    1.00000  float32\n",
      "molded_images            shape: (1, 256, 256, 1)      min:    0.00000  max:    1.00000  float64\n",
      "image_metas              shape: (1, 16)               min:    0.00000  max:  256.00000  int32\n",
      "anchors                  shape: (1, 16368, 4)         min:   -0.70988  max:    1.45890  float32\n",
      "['BBox', 'cls_id', 'conf']\n",
      "Running on ..\\data\\bomb_meiler_barrow_mrcnn\\validation\\x\\460.tif\n",
      "Processing 1 images\n",
      "image                    shape: (256, 256, 1)         min:    0.00000  max:    1.00000  float32\n",
      "molded_images            shape: (1, 256, 256, 1)      min:    0.00000  max:    1.00000  float64\n",
      "image_metas              shape: (1, 16)               min:    0.00000  max:  256.00000  int32\n",
      "anchors                  shape: (1, 16368, 4)         min:   -0.70988  max:    1.45890  float32\n",
      "['BBox', 'cls_id', 'conf']\n",
      "Running on ..\\data\\bomb_meiler_barrow_mrcnn\\validation\\x\\472.tif\n",
      "Processing 1 images\n",
      "image                    shape: (256, 256, 1)         min:    0.00000  max:    1.00000  float32\n",
      "molded_images            shape: (1, 256, 256, 1)      min:    0.00000  max:    1.00000  float64\n",
      "image_metas              shape: (1, 16)               min:    0.00000  max:  256.00000  int32\n",
      "anchors                  shape: (1, 16368, 4)         min:   -0.70988  max:    1.45890  float32\n",
      "['BBox', 'cls_id', 'conf']\n",
      "Running on ..\\data\\bomb_meiler_barrow_mrcnn\\validation\\x\\503.tif\n",
      "Processing 1 images\n",
      "image                    shape: (256, 256, 1)         min:    0.00000  max:    1.00000  float32\n",
      "molded_images            shape: (1, 256, 256, 1)      min:    0.00000  max:    1.00000  float64\n",
      "image_metas              shape: (1, 16)               min:    0.00000  max:  256.00000  int32\n",
      "anchors                  shape: (1, 16368, 4)         min:   -0.70988  max:    1.45890  float32\n",
      "['BBox', 'cls_id', 'conf']\n",
      "Running on ..\\data\\bomb_meiler_barrow_mrcnn\\validation\\x\\507.tif\n",
      "Processing 1 images\n",
      "image                    shape: (256, 256, 1)         min:    0.00000  max:    1.00000  float32\n",
      "molded_images            shape: (1, 256, 256, 1)      min:    0.00000  max:    1.00000  float64\n",
      "image_metas              shape: (1, 16)               min:    0.00000  max:  256.00000  int32\n",
      "anchors                  shape: (1, 16368, 4)         min:   -0.70988  max:    1.45890  float32\n",
      "['BBox', 'cls_id', 'conf']\n",
      "Running on ..\\data\\bomb_meiler_barrow_mrcnn\\validation\\x\\515.tif\n",
      "Processing 1 images\n",
      "image                    shape: (256, 256, 1)         min:    0.00000  max:    1.00000  float32\n",
      "molded_images            shape: (1, 256, 256, 1)      min:    0.00000  max:    1.00000  float64\n",
      "image_metas              shape: (1, 16)               min:    0.00000  max:  256.00000  int32\n",
      "anchors                  shape: (1, 16368, 4)         min:   -0.70988  max:    1.45890  float32\n",
      "['BBox', 'cls_id', 'conf']\n",
      "Running on ..\\data\\bomb_meiler_barrow_mrcnn\\validation\\x\\535.tif\n",
      "Processing 1 images\n",
      "image                    shape: (256, 256, 1)         min:    0.00000  max:    1.00000  float32\n",
      "molded_images            shape: (1, 256, 256, 1)      min:    0.00000  max:    1.00000  float64\n",
      "image_metas              shape: (1, 16)               min:    0.00000  max:  256.00000  int32\n",
      "anchors                  shape: (1, 16368, 4)         min:   -0.70988  max:    1.45890  float32\n",
      "['BBox', 'cls_id', 'conf']\n",
      "Running on ..\\data\\bomb_meiler_barrow_mrcnn\\validation\\x\\57.tif\n",
      "Processing 1 images\n",
      "image                    shape: (256, 256, 1)         min:    0.00000  max:    1.00000  float32\n",
      "molded_images            shape: (1, 256, 256, 1)      min:    0.00000  max:    1.00000  float64\n",
      "image_metas              shape: (1, 16)               min:    0.00000  max:  256.00000  int32\n",
      "anchors                  shape: (1, 16368, 4)         min:   -0.70988  max:    1.45890  float32\n",
      "['BBox', 'cls_id', 'conf']\n",
      "['BBox', 'cls_id', 'conf']\n",
      "['BBox', 'cls_id', 'conf']\n",
      "['BBox', 'cls_id', 'conf']\n",
      "['BBox', 'cls_id', 'conf']\n",
      "['BBox', 'cls_id', 'conf']\n",
      "['BBox', 'cls_id', 'conf']\n",
      "['BBox', 'cls_id', 'conf']\n",
      "['BBox', 'cls_id', 'conf']\n",
      "['BBox', 'cls_id', 'conf']\n",
      "['BBox', 'cls_id', 'conf']\n",
      "['BBox', 'cls_id', 'conf']\n",
      "['BBox', 'cls_id', 'conf']\n"
     ]
    },
    {
     "name": "stdout",
     "output_type": "stream",
     "text": [
      "Running on ..\\data\\bomb_meiler_barrow_mrcnn\\validation\\x\\578.tif\n",
      "Processing 1 images\n",
      "image                    shape: (256, 256, 1)         min:    0.00000  max:    1.00000  float32\n",
      "molded_images            shape: (1, 256, 256, 1)      min:    0.00000  max:    1.00000  float64\n",
      "image_metas              shape: (1, 16)               min:    0.00000  max:  256.00000  int32\n",
      "anchors                  shape: (1, 16368, 4)         min:   -0.70988  max:    1.45890  float32\n",
      "['BBox', 'cls_id', 'conf']\n",
      "Running on ..\\data\\bomb_meiler_barrow_mrcnn\\validation\\x\\579.tif\n",
      "Processing 1 images\n",
      "image                    shape: (256, 256, 1)         min:    0.00000  max:    1.00000  float32\n",
      "molded_images            shape: (1, 256, 256, 1)      min:    0.00000  max:    1.00000  float64\n",
      "image_metas              shape: (1, 16)               min:    0.00000  max:  256.00000  int32\n",
      "anchors                  shape: (1, 16368, 4)         min:   -0.70988  max:    1.45890  float32\n",
      "['BBox', 'cls_id', 'conf']\n",
      "Running on ..\\data\\bomb_meiler_barrow_mrcnn\\validation\\x\\585.tif\n",
      "Processing 1 images\n",
      "image                    shape: (256, 256, 1)         min:    0.00000  max:    1.00000  float32\n",
      "molded_images            shape: (1, 256, 256, 1)      min:    0.00000  max:    1.00000  float64\n",
      "image_metas              shape: (1, 16)               min:    0.00000  max:  256.00000  int32\n",
      "anchors                  shape: (1, 16368, 4)         min:   -0.70988  max:    1.45890  float32\n",
      "['BBox', 'cls_id', 'conf']\n",
      "Running on ..\\data\\bomb_meiler_barrow_mrcnn\\validation\\x\\59.tif\n",
      "Processing 1 images\n",
      "image                    shape: (256, 256, 1)         min:    0.00000  max:    1.00000  float32\n",
      "molded_images            shape: (1, 256, 256, 1)      min:    0.00000  max:    1.00000  float64\n",
      "image_metas              shape: (1, 16)               min:    0.00000  max:  256.00000  int32\n",
      "anchors                  shape: (1, 16368, 4)         min:   -0.70988  max:    1.45890  float32\n",
      "['BBox', 'cls_id', 'conf']\n",
      "['BBox', 'cls_id', 'conf']\n",
      "['BBox', 'cls_id', 'conf']\n",
      "['BBox', 'cls_id', 'conf']\n",
      "['BBox', 'cls_id', 'conf']\n",
      "['BBox', 'cls_id', 'conf']\n",
      "['BBox', 'cls_id', 'conf']\n",
      "['BBox', 'cls_id', 'conf']\n",
      "['BBox', 'cls_id', 'conf']\n",
      "['BBox', 'cls_id', 'conf']\n",
      "['BBox', 'cls_id', 'conf']\n",
      "['BBox', 'cls_id', 'conf']\n",
      "['BBox', 'cls_id', 'conf']\n",
      "['BBox', 'cls_id', 'conf']\n",
      "['BBox', 'cls_id', 'conf']\n",
      "['BBox', 'cls_id', 'conf']\n",
      "['BBox', 'cls_id', 'conf']\n",
      "['BBox', 'cls_id', 'conf']\n",
      "['BBox', 'cls_id', 'conf']\n",
      "['BBox', 'cls_id', 'conf']\n",
      "['BBox', 'cls_id', 'conf']\n",
      "Running on ..\\data\\bomb_meiler_barrow_mrcnn\\validation\\x\\591.tif\n",
      "Processing 1 images\n",
      "image                    shape: (256, 256, 1)         min:    0.00000  max:    1.00000  float32\n",
      "molded_images            shape: (1, 256, 256, 1)      min:    0.00000  max:    1.00000  float64\n",
      "image_metas              shape: (1, 16)               min:    0.00000  max:  256.00000  int32\n",
      "anchors                  shape: (1, 16368, 4)         min:   -0.70988  max:    1.45890  float32\n",
      "['BBox', 'cls_id', 'conf']\n",
      "Running on ..\\data\\bomb_meiler_barrow_mrcnn\\validation\\x\\61.tif\n",
      "Processing 1 images\n",
      "image                    shape: (256, 256, 1)         min:    0.00000  max:    1.00000  float32\n",
      "molded_images            shape: (1, 256, 256, 1)      min:    0.00000  max:    1.00000  float64\n",
      "image_metas              shape: (1, 16)               min:    0.00000  max:  256.00000  int32\n",
      "anchors                  shape: (1, 16368, 4)         min:   -0.70988  max:    1.45890  float32\n",
      "['BBox', 'cls_id', 'conf']\n",
      "['BBox', 'cls_id', 'conf']\n",
      "['BBox', 'cls_id', 'conf']\n",
      "['BBox', 'cls_id', 'conf']\n",
      "['BBox', 'cls_id', 'conf']\n",
      "['BBox', 'cls_id', 'conf']\n",
      "['BBox', 'cls_id', 'conf']\n",
      "['BBox', 'cls_id', 'conf']\n",
      "['BBox', 'cls_id', 'conf']\n",
      "['BBox', 'cls_id', 'conf']\n",
      "['BBox', 'cls_id', 'conf']\n",
      "['BBox', 'cls_id', 'conf']\n",
      "['BBox', 'cls_id', 'conf']\n",
      "['BBox', 'cls_id', 'conf']\n",
      "['BBox', 'cls_id', 'conf']\n",
      "['BBox', 'cls_id', 'conf']\n",
      "['BBox', 'cls_id', 'conf']\n",
      "['BBox', 'cls_id', 'conf']\n",
      "Running on ..\\data\\bomb_meiler_barrow_mrcnn\\validation\\x\\614.tif\n",
      "Processing 1 images\n",
      "image                    shape: (256, 256, 1)         min:    0.00000  max:    1.00000  float32\n",
      "molded_images            shape: (1, 256, 256, 1)      min:    0.00000  max:    1.00000  float64\n",
      "image_metas              shape: (1, 16)               min:    0.00000  max:  256.00000  int32\n",
      "anchors                  shape: (1, 16368, 4)         min:   -0.70988  max:    1.45890  float32\n",
      "['BBox', 'cls_id', 'conf']\n",
      "Running on ..\\data\\bomb_meiler_barrow_mrcnn\\validation\\x\\616.tif\n",
      "Processing 1 images\n",
      "image                    shape: (256, 256, 1)         min:    0.00000  max:    1.00000  float32\n",
      "molded_images            shape: (1, 256, 256, 1)      min:    0.00000  max:    1.00000  float64\n",
      "image_metas              shape: (1, 16)               min:    0.00000  max:  256.00000  int32\n",
      "anchors                  shape: (1, 16368, 4)         min:   -0.70988  max:    1.45890  float32\n",
      "['BBox', 'cls_id', 'conf']\n",
      "Running on ..\\data\\bomb_meiler_barrow_mrcnn\\validation\\x\\63.tif\n",
      "Processing 1 images\n",
      "image                    shape: (256, 256, 1)         min:    0.00000  max:    1.00000  float32\n",
      "molded_images            shape: (1, 256, 256, 1)      min:    0.00000  max:    1.00000  float64\n",
      "image_metas              shape: (1, 16)               min:    0.00000  max:  256.00000  int32\n",
      "anchors                  shape: (1, 16368, 4)         min:   -0.70988  max:    1.45890  float32\n",
      "['BBox', 'cls_id', 'conf']\n",
      "['BBox', 'cls_id', 'conf']\n",
      "['BBox', 'cls_id', 'conf']\n",
      "['BBox', 'cls_id', 'conf']\n",
      "['BBox', 'cls_id', 'conf']\n",
      "['BBox', 'cls_id', 'conf']\n",
      "['BBox', 'cls_id', 'conf']\n",
      "['BBox', 'cls_id', 'conf']\n",
      "['BBox', 'cls_id', 'conf']\n",
      "Running on ..\\data\\bomb_meiler_barrow_mrcnn\\validation\\x\\630.tif\n",
      "Processing 1 images\n",
      "image                    shape: (256, 256, 1)         min:    0.00000  max:    1.00000  float32\n",
      "molded_images            shape: (1, 256, 256, 1)      min:    0.00000  max:    1.00000  float64\n",
      "image_metas              shape: (1, 16)               min:    0.00000  max:  256.00000  int32\n",
      "anchors                  shape: (1, 16368, 4)         min:   -0.70988  max:    1.45890  float32\n",
      "['BBox', 'cls_id', 'conf']\n",
      "Running on ..\\data\\bomb_meiler_barrow_mrcnn\\validation\\x\\659.tif\n",
      "Processing 1 images\n",
      "image                    shape: (256, 256, 1)         min:    0.00000  max:    1.00000  float32\n",
      "molded_images            shape: (1, 256, 256, 1)      min:    0.00000  max:    1.00000  float64\n",
      "image_metas              shape: (1, 16)               min:    0.00000  max:  256.00000  int32\n",
      "anchors                  shape: (1, 16368, 4)         min:   -0.70988  max:    1.45890  float32\n",
      "['BBox', 'cls_id', 'conf']\n",
      "Running on ..\\data\\bomb_meiler_barrow_mrcnn\\validation\\x\\663.tif\n",
      "Processing 1 images\n",
      "image                    shape: (256, 256, 1)         min:    0.00000  max:    1.00000  float32\n",
      "molded_images            shape: (1, 256, 256, 1)      min:    0.00000  max:    1.00000  float64\n",
      "image_metas              shape: (1, 16)               min:    0.00000  max:  256.00000  int32\n",
      "anchors                  shape: (1, 16368, 4)         min:   -0.70988  max:    1.45890  float32\n",
      "['BBox', 'cls_id', 'conf']\n",
      "Running on ..\\data\\bomb_meiler_barrow_mrcnn\\validation\\x\\668.tif\n",
      "Processing 1 images\n",
      "image                    shape: (256, 256, 1)         min:    0.00000  max:    1.00000  float32\n",
      "molded_images            shape: (1, 256, 256, 1)      min:    0.00000  max:    1.00000  float64\n",
      "image_metas              shape: (1, 16)               min:    0.00000  max:  256.00000  int32\n",
      "anchors                  shape: (1, 16368, 4)         min:   -0.70988  max:    1.45890  float32\n",
      "['BBox', 'cls_id', 'conf']\n",
      "Running on ..\\data\\bomb_meiler_barrow_mrcnn\\validation\\x\\675.tif\n",
      "Processing 1 images\n",
      "image                    shape: (256, 256, 1)         min:    0.00000  max:    1.00000  float32\n",
      "molded_images            shape: (1, 256, 256, 1)      min:    0.00000  max:    1.00000  float64\n",
      "image_metas              shape: (1, 16)               min:    0.00000  max:  256.00000  int32\n",
      "anchors                  shape: (1, 16368, 4)         min:   -0.70988  max:    1.45890  float32\n",
      "['BBox', 'cls_id', 'conf']\n",
      "Running on ..\\data\\bomb_meiler_barrow_mrcnn\\validation\\x\\695.tif\n",
      "Processing 1 images\n",
      "image                    shape: (256, 256, 1)         min:    0.00000  max:    1.00000  float32\n",
      "molded_images            shape: (1, 256, 256, 1)      min:    0.00000  max:    1.00000  float64\n",
      "image_metas              shape: (1, 16)               min:    0.00000  max:  256.00000  int32\n",
      "anchors                  shape: (1, 16368, 4)         min:   -0.70988  max:    1.45890  float32\n",
      "['BBox', 'cls_id', 'conf']\n",
      "['BBox', 'cls_id', 'conf']\n",
      "Running on ..\\data\\bomb_meiler_barrow_mrcnn\\validation\\x\\696.tif\n"
     ]
    },
    {
     "name": "stdout",
     "output_type": "stream",
     "text": [
      "Processing 1 images\n",
      "image                    shape: (256, 256, 1)         min:    0.00000  max:    1.00000  float32\n",
      "molded_images            shape: (1, 256, 256, 1)      min:    0.00000  max:    1.00000  float64\n",
      "image_metas              shape: (1, 16)               min:    0.00000  max:  256.00000  int32\n",
      "anchors                  shape: (1, 16368, 4)         min:   -0.70988  max:    1.45890  float32\n",
      "['BBox', 'cls_id', 'conf']\n",
      "Running on ..\\data\\bomb_meiler_barrow_mrcnn\\validation\\x\\70.tif\n",
      "Processing 1 images\n",
      "image                    shape: (256, 256, 1)         min:    0.00000  max:    1.00000  float32\n",
      "molded_images            shape: (1, 256, 256, 1)      min:    0.00000  max:    1.00000  float64\n",
      "image_metas              shape: (1, 16)               min:    0.00000  max:  256.00000  int32\n",
      "anchors                  shape: (1, 16368, 4)         min:   -0.70988  max:    1.45890  float32\n",
      "['BBox', 'cls_id', 'conf']\n",
      "['BBox', 'cls_id', 'conf']\n",
      "['BBox', 'cls_id', 'conf']\n",
      "['BBox', 'cls_id', 'conf']\n",
      "['BBox', 'cls_id', 'conf']\n",
      "['BBox', 'cls_id', 'conf']\n",
      "['BBox', 'cls_id', 'conf']\n",
      "['BBox', 'cls_id', 'conf']\n",
      "['BBox', 'cls_id', 'conf']\n",
      "['BBox', 'cls_id', 'conf']\n",
      "['BBox', 'cls_id', 'conf']\n",
      "['BBox', 'cls_id', 'conf']\n",
      "['BBox', 'cls_id', 'conf']\n",
      "['BBox', 'cls_id', 'conf']\n",
      "['BBox', 'cls_id', 'conf']\n",
      "['BBox', 'cls_id', 'conf']\n",
      "['BBox', 'cls_id', 'conf']\n",
      "['BBox', 'cls_id', 'conf']\n",
      "Running on ..\\data\\bomb_meiler_barrow_mrcnn\\validation\\x\\714.tif\n",
      "Processing 1 images\n",
      "image                    shape: (256, 256, 1)         min:    0.00000  max:    1.00000  float32\n",
      "molded_images            shape: (1, 256, 256, 1)      min:    0.00000  max:    1.00000  float64\n",
      "image_metas              shape: (1, 16)               min:    0.00000  max:  256.00000  int32\n",
      "anchors                  shape: (1, 16368, 4)         min:   -0.70988  max:    1.45890  float32\n",
      "['BBox', 'cls_id', 'conf']\n",
      "Running on ..\\data\\bomb_meiler_barrow_mrcnn\\validation\\x\\721.tif\n",
      "Processing 1 images\n",
      "image                    shape: (256, 256, 1)         min:    0.00000  max:    1.00000  float32\n",
      "molded_images            shape: (1, 256, 256, 1)      min:    0.00000  max:    1.00000  float64\n",
      "image_metas              shape: (1, 16)               min:    0.00000  max:  256.00000  int32\n",
      "anchors                  shape: (1, 16368, 4)         min:   -0.70988  max:    1.45890  float32\n",
      "['BBox', 'cls_id', 'conf']\n",
      "Running on ..\\data\\bomb_meiler_barrow_mrcnn\\validation\\x\\727.tif\n",
      "Processing 1 images\n",
      "image                    shape: (256, 256, 1)         min:    0.00000  max:    1.00000  float32\n",
      "molded_images            shape: (1, 256, 256, 1)      min:    0.00000  max:    1.00000  float64\n",
      "image_metas              shape: (1, 16)               min:    0.00000  max:  256.00000  int32\n",
      "anchors                  shape: (1, 16368, 4)         min:   -0.70988  max:    1.45890  float32\n",
      "['BBox', 'cls_id', 'conf']\n",
      "Running on ..\\data\\bomb_meiler_barrow_mrcnn\\validation\\x\\729.tif\n",
      "Processing 1 images\n",
      "image                    shape: (256, 256, 1)         min:    0.00000  max:    1.00000  float32\n",
      "molded_images            shape: (1, 256, 256, 1)      min:    0.00000  max:    1.00000  float64\n",
      "image_metas              shape: (1, 16)               min:    0.00000  max:  256.00000  int32\n",
      "anchors                  shape: (1, 16368, 4)         min:   -0.70988  max:    1.45890  float32\n",
      "['BBox', 'cls_id', 'conf']\n",
      "Running on ..\\data\\bomb_meiler_barrow_mrcnn\\validation\\x\\73.tif\n",
      "Processing 1 images\n",
      "image                    shape: (256, 256, 1)         min:    0.00000  max:    1.00000  float32\n",
      "molded_images            shape: (1, 256, 256, 1)      min:    0.00000  max:    1.00000  float64\n",
      "image_metas              shape: (1, 16)               min:    0.00000  max:  256.00000  int32\n",
      "anchors                  shape: (1, 16368, 4)         min:   -0.70988  max:    1.45890  float32\n",
      "['BBox', 'cls_id', 'conf']\n",
      "['BBox', 'cls_id', 'conf']\n",
      "['BBox', 'cls_id', 'conf']\n",
      "['BBox', 'cls_id', 'conf']\n",
      "['BBox', 'cls_id', 'conf']\n",
      "['BBox', 'cls_id', 'conf']\n",
      "['BBox', 'cls_id', 'conf']\n",
      "['BBox', 'cls_id', 'conf']\n",
      "['BBox', 'cls_id', 'conf']\n",
      "['BBox', 'cls_id', 'conf']\n",
      "['BBox', 'cls_id', 'conf']\n",
      "['BBox', 'cls_id', 'conf']\n",
      "['BBox', 'cls_id', 'conf']\n",
      "['BBox', 'cls_id', 'conf']\n",
      "['BBox', 'cls_id', 'conf']\n",
      "['BBox', 'cls_id', 'conf']\n",
      "Running on ..\\data\\bomb_meiler_barrow_mrcnn\\validation\\x\\731.tif\n",
      "Processing 1 images\n",
      "image                    shape: (256, 256, 1)         min:    0.00000  max:    1.00000  float32\n",
      "molded_images            shape: (1, 256, 256, 1)      min:    0.00000  max:    1.00000  float64\n",
      "image_metas              shape: (1, 16)               min:    0.00000  max:  256.00000  int32\n",
      "anchors                  shape: (1, 16368, 4)         min:   -0.70988  max:    1.45890  float32\n",
      "['BBox', 'cls_id', 'conf']\n",
      "Running on ..\\data\\bomb_meiler_barrow_mrcnn\\validation\\x\\737.tif\n",
      "Processing 1 images\n",
      "image                    shape: (256, 256, 1)         min:    0.00000  max:    1.00000  float32\n",
      "molded_images            shape: (1, 256, 256, 1)      min:    0.00000  max:    1.00000  float64\n",
      "image_metas              shape: (1, 16)               min:    0.00000  max:  256.00000  int32\n",
      "anchors                  shape: (1, 16368, 4)         min:   -0.70988  max:    1.45890  float32\n",
      "['BBox', 'cls_id', 'conf']\n",
      "Running on ..\\data\\bomb_meiler_barrow_mrcnn\\validation\\x\\748.tif\n",
      "Processing 1 images\n",
      "image                    shape: (256, 256, 1)         min:    0.00000  max:    1.00000  float32\n",
      "molded_images            shape: (1, 256, 256, 1)      min:    0.00000  max:    1.00000  float64\n",
      "image_metas              shape: (1, 16)               min:    0.00000  max:  256.00000  int32\n",
      "anchors                  shape: (1, 16368, 4)         min:   -0.70988  max:    1.45890  float32\n",
      "['BBox', 'cls_id', 'conf']\n",
      "Running on ..\\data\\bomb_meiler_barrow_mrcnn\\validation\\x\\763.tif\n",
      "Processing 1 images\n",
      "image                    shape: (256, 256, 1)         min:    0.00000  max:    1.00000  float32\n",
      "molded_images            shape: (1, 256, 256, 1)      min:    0.00000  max:    1.00000  float64\n",
      "image_metas              shape: (1, 16)               min:    0.00000  max:  256.00000  int32\n",
      "anchors                  shape: (1, 16368, 4)         min:   -0.70988  max:    1.45890  float32\n",
      "['BBox', 'cls_id', 'conf']\n",
      "Running on ..\\data\\bomb_meiler_barrow_mrcnn\\validation\\x\\768.tif\n",
      "Processing 1 images\n",
      "image                    shape: (256, 256, 1)         min:    0.00000  max:    1.00000  float32\n",
      "molded_images            shape: (1, 256, 256, 1)      min:    0.00000  max:    1.00000  float64\n",
      "image_metas              shape: (1, 16)               min:    0.00000  max:  256.00000  int32\n",
      "anchors                  shape: (1, 16368, 4)         min:   -0.70988  max:    1.45890  float32\n",
      "['BBox', 'cls_id', 'conf']\n",
      "Running on ..\\data\\bomb_meiler_barrow_mrcnn\\validation\\x\\777.tif\n",
      "Processing 1 images\n",
      "image                    shape: (256, 256, 1)         min:    0.00000  max:    1.00000  float32\n",
      "molded_images            shape: (1, 256, 256, 1)      min:    0.00000  max:    1.00000  float64\n",
      "image_metas              shape: (1, 16)               min:    0.00000  max:  256.00000  int32\n",
      "anchors                  shape: (1, 16368, 4)         min:   -0.70988  max:    1.45890  float32\n",
      "['BBox', 'cls_id', 'conf']\n",
      "Running on ..\\data\\bomb_meiler_barrow_mrcnn\\validation\\x\\778.tif\n",
      "Processing 1 images\n",
      "image                    shape: (256, 256, 1)         min:    0.00000  max:    1.00000  float32\n",
      "molded_images            shape: (1, 256, 256, 1)      min:    0.00000  max:    1.00000  float64\n",
      "image_metas              shape: (1, 16)               min:    0.00000  max:  256.00000  int32\n",
      "anchors                  shape: (1, 16368, 4)         min:   -0.70988  max:    1.45890  float32\n",
      "['BBox', 'cls_id', 'conf']\n",
      "Running on ..\\data\\bomb_meiler_barrow_mrcnn\\validation\\x\\787.tif\n",
      "Processing 1 images\n",
      "image                    shape: (256, 256, 1)         min:    0.00000  max:    1.00000  float32\n",
      "molded_images            shape: (1, 256, 256, 1)      min:    0.00000  max:    1.00000  float64\n",
      "image_metas              shape: (1, 16)               min:    0.00000  max:  256.00000  int32\n",
      "anchors                  shape: (1, 16368, 4)         min:   -0.70988  max:    1.45890  float32\n",
      "['BBox', 'cls_id', 'conf']\n",
      "Running on ..\\data\\bomb_meiler_barrow_mrcnn\\validation\\x\\796.tif\n",
      "Processing 1 images\n",
      "image                    shape: (256, 256, 1)         min:    0.00000  max:    1.00000  float32\n",
      "molded_images            shape: (1, 256, 256, 1)      min:    0.00000  max:    1.00000  float64\n",
      "image_metas              shape: (1, 16)               min:    0.00000  max:  256.00000  int32\n",
      "anchors                  shape: (1, 16368, 4)         min:   -0.70988  max:    1.45890  float32\n",
      "['BBox', 'cls_id', 'conf']\n",
      "Running on ..\\data\\bomb_meiler_barrow_mrcnn\\validation\\x\\802.tif\n",
      "Processing 1 images\n",
      "image                    shape: (256, 256, 1)         min:    0.00000  max:    1.00000  float32\n",
      "molded_images            shape: (1, 256, 256, 1)      min:    0.00000  max:    1.00000  float64\n",
      "image_metas              shape: (1, 16)               min:    0.00000  max:  256.00000  int32\n",
      "anchors                  shape: (1, 16368, 4)         min:   -0.70988  max:    1.45890  float32\n"
     ]
    },
    {
     "name": "stdout",
     "output_type": "stream",
     "text": [
      "['BBox', 'cls_id', 'conf']\n",
      "Running on ..\\data\\bomb_meiler_barrow_mrcnn\\validation\\x\\804.tif\n",
      "Processing 1 images\n",
      "image                    shape: (256, 256, 1)         min:    0.00000  max:    1.00000  float32\n",
      "molded_images            shape: (1, 256, 256, 1)      min:    0.00000  max:    1.00000  float64\n",
      "image_metas              shape: (1, 16)               min:    0.00000  max:  256.00000  int32\n",
      "anchors                  shape: (1, 16368, 4)         min:   -0.70988  max:    1.45890  float32\n",
      "['BBox', 'cls_id', 'conf']\n",
      "Running on ..\\data\\bomb_meiler_barrow_mrcnn\\validation\\x\\805.tif\n",
      "Processing 1 images\n",
      "image                    shape: (256, 256, 1)         min:    0.00000  max:    1.00000  float32\n",
      "molded_images            shape: (1, 256, 256, 1)      min:    0.00000  max:    1.00000  float64\n",
      "image_metas              shape: (1, 16)               min:    0.00000  max:  256.00000  int32\n",
      "anchors                  shape: (1, 16368, 4)         min:   -0.70988  max:    1.45890  float32\n",
      "['BBox', 'cls_id', 'conf']\n",
      "Running on ..\\data\\bomb_meiler_barrow_mrcnn\\validation\\x\\81.tif\n",
      "Processing 1 images\n",
      "image                    shape: (256, 256, 1)         min:    0.00000  max:    1.00000  float32\n",
      "molded_images            shape: (1, 256, 256, 1)      min:    0.00000  max:    1.00000  float64\n",
      "image_metas              shape: (1, 16)               min:    0.00000  max:  256.00000  int32\n",
      "anchors                  shape: (1, 16368, 4)         min:   -0.70988  max:    1.45890  float32\n",
      "['BBox', 'cls_id', 'conf']\n",
      "['BBox', 'cls_id', 'conf']\n",
      "['BBox', 'cls_id', 'conf']\n",
      "['BBox', 'cls_id', 'conf']\n",
      "['BBox', 'cls_id', 'conf']\n",
      "['BBox', 'cls_id', 'conf']\n",
      "Running on ..\\data\\bomb_meiler_barrow_mrcnn\\validation\\x\\819.tif\n",
      "Processing 1 images\n",
      "image                    shape: (256, 256, 1)         min:    0.00000  max:    1.00000  float32\n",
      "molded_images            shape: (1, 256, 256, 1)      min:    0.00000  max:    1.00000  float64\n",
      "image_metas              shape: (1, 16)               min:    0.00000  max:  256.00000  int32\n",
      "anchors                  shape: (1, 16368, 4)         min:   -0.70988  max:    1.45890  float32\n",
      "['BBox', 'cls_id', 'conf']\n",
      "['BBox', 'cls_id', 'conf']\n",
      "Running on ..\\data\\bomb_meiler_barrow_mrcnn\\validation\\x\\831.tif\n",
      "Processing 1 images\n",
      "image                    shape: (256, 256, 1)         min:    0.00000  max:    1.00000  float32\n",
      "molded_images            shape: (1, 256, 256, 1)      min:    0.00000  max:    1.00000  float64\n",
      "image_metas              shape: (1, 16)               min:    0.00000  max:  256.00000  int32\n",
      "anchors                  shape: (1, 16368, 4)         min:   -0.70988  max:    1.45890  float32\n",
      "['BBox', 'cls_id', 'conf']\n",
      "Running on ..\\data\\bomb_meiler_barrow_mrcnn\\validation\\x\\835.tif\n",
      "Processing 1 images\n",
      "image                    shape: (256, 256, 1)         min:    0.00000  max:    1.00000  float32\n",
      "molded_images            shape: (1, 256, 256, 1)      min:    0.00000  max:    1.00000  float64\n",
      "image_metas              shape: (1, 16)               min:    0.00000  max:  256.00000  int32\n",
      "anchors                  shape: (1, 16368, 4)         min:   -0.70988  max:    1.45890  float32\n",
      "['BBox', 'cls_id', 'conf']\n",
      "['BBox', 'cls_id', 'conf']\n",
      "Running on ..\\data\\bomb_meiler_barrow_mrcnn\\validation\\x\\837.tif\n",
      "Processing 1 images\n",
      "image                    shape: (256, 256, 1)         min:    0.00000  max:    1.00000  float32\n",
      "molded_images            shape: (1, 256, 256, 1)      min:    0.00000  max:    1.00000  float64\n",
      "image_metas              shape: (1, 16)               min:    0.00000  max:  256.00000  int32\n",
      "anchors                  shape: (1, 16368, 4)         min:   -0.70988  max:    1.45890  float32\n",
      "['BBox', 'cls_id', 'conf']\n",
      "Running on ..\\data\\bomb_meiler_barrow_mrcnn\\validation\\x\\842.tif\n",
      "Processing 1 images\n",
      "image                    shape: (256, 256, 1)         min:    0.00000  max:    1.00000  float32\n",
      "molded_images            shape: (1, 256, 256, 1)      min:    0.00000  max:    1.00000  float64\n",
      "image_metas              shape: (1, 16)               min:    0.00000  max:  256.00000  int32\n",
      "anchors                  shape: (1, 16368, 4)         min:   -0.70988  max:    1.45890  float32\n",
      "['BBox', 'cls_id', 'conf']\n",
      "Running on ..\\data\\bomb_meiler_barrow_mrcnn\\validation\\x\\854.tif\n",
      "Processing 1 images\n",
      "image                    shape: (256, 256, 1)         min:    0.00000  max:    1.00000  float32\n",
      "molded_images            shape: (1, 256, 256, 1)      min:    0.00000  max:    1.00000  float64\n",
      "image_metas              shape: (1, 16)               min:    0.00000  max:  256.00000  int32\n",
      "anchors                  shape: (1, 16368, 4)         min:   -0.70988  max:    1.45890  float32\n",
      "['BBox', 'cls_id', 'conf']\n",
      "Running on ..\\data\\bomb_meiler_barrow_mrcnn\\validation\\x\\863.tif\n",
      "Processing 1 images\n",
      "image                    shape: (256, 256, 1)         min:    0.00000  max:    1.00000  float32\n",
      "molded_images            shape: (1, 256, 256, 1)      min:    0.00000  max:    1.00000  float64\n",
      "image_metas              shape: (1, 16)               min:    0.00000  max:  256.00000  int32\n",
      "anchors                  shape: (1, 16368, 4)         min:   -0.70988  max:    1.45890  float32\n",
      "['BBox', 'cls_id', 'conf']\n",
      "Running on ..\\data\\bomb_meiler_barrow_mrcnn\\validation\\x\\880.tif\n",
      "Processing 1 images\n",
      "image                    shape: (256, 256, 1)         min:    0.00000  max:    1.00000  float32\n",
      "molded_images            shape: (1, 256, 256, 1)      min:    0.00000  max:    1.00000  float64\n",
      "image_metas              shape: (1, 16)               min:    0.00000  max:  256.00000  int32\n",
      "anchors                  shape: (1, 16368, 4)         min:   -0.70988  max:    1.45890  float32\n",
      "['BBox', 'cls_id', 'conf']\n",
      "['BBox', 'cls_id', 'conf']\n",
      "['BBox', 'cls_id', 'conf']\n",
      "['BBox', 'cls_id', 'conf']\n",
      "Running on ..\\data\\bomb_meiler_barrow_mrcnn\\validation\\x\\884.tif\n",
      "Processing 1 images\n",
      "image                    shape: (256, 256, 1)         min:    0.00000  max:    1.00000  float32\n",
      "molded_images            shape: (1, 256, 256, 1)      min:    0.00000  max:    1.00000  float64\n",
      "image_metas              shape: (1, 16)               min:    0.00000  max:  256.00000  int32\n",
      "anchors                  shape: (1, 16368, 4)         min:   -0.70988  max:    1.45890  float32\n",
      "['BBox', 'cls_id', 'conf']\n",
      "Running on ..\\data\\bomb_meiler_barrow_mrcnn\\validation\\x\\892.tif\n",
      "Processing 1 images\n",
      "image                    shape: (256, 256, 1)         min:    0.00000  max:    1.00000  float32\n",
      "molded_images            shape: (1, 256, 256, 1)      min:    0.00000  max:    1.00000  float64\n",
      "image_metas              shape: (1, 16)               min:    0.00000  max:  256.00000  int32\n",
      "anchors                  shape: (1, 16368, 4)         min:   -0.70988  max:    1.45890  float32\n",
      "['BBox', 'cls_id', 'conf']\n",
      "Running on ..\\data\\bomb_meiler_barrow_mrcnn\\validation\\x\\898.tif\n",
      "Processing 1 images\n",
      "image                    shape: (256, 256, 1)         min:    0.00000  max:    1.00000  float32\n",
      "molded_images            shape: (1, 256, 256, 1)      min:    0.00000  max:    1.00000  float64\n",
      "image_metas              shape: (1, 16)               min:    0.00000  max:  256.00000  int32\n",
      "anchors                  shape: (1, 16368, 4)         min:   -0.70988  max:    1.45890  float32\n",
      "['BBox', 'cls_id', 'conf']\n",
      "['BBox', 'cls_id', 'conf']\n",
      "Running on ..\\data\\bomb_meiler_barrow_mrcnn\\validation\\x\\904.tif\n",
      "Processing 1 images\n",
      "image                    shape: (256, 256, 1)         min:    0.00000  max:    1.00000  float32\n",
      "molded_images            shape: (1, 256, 256, 1)      min:    0.00000  max:    1.00000  float64\n",
      "image_metas              shape: (1, 16)               min:    0.00000  max:  256.00000  int32\n",
      "anchors                  shape: (1, 16368, 4)         min:   -0.70988  max:    1.45890  float32\n",
      "['BBox', 'cls_id', 'conf']\n",
      "['BBox', 'cls_id', 'conf']\n",
      "Running on ..\\data\\bomb_meiler_barrow_mrcnn\\validation\\x\\913.tif\n",
      "Processing 1 images\n",
      "image                    shape: (256, 256, 1)         min:    0.00000  max:    1.00000  float32\n",
      "molded_images            shape: (1, 256, 256, 1)      min:    0.00000  max:    1.00000  float64\n",
      "image_metas              shape: (1, 16)               min:    0.00000  max:  256.00000  int32\n",
      "anchors                  shape: (1, 16368, 4)         min:   -0.70988  max:    1.45890  float32\n",
      "['BBox', 'cls_id', 'conf']\n",
      "Running on ..\\data\\bomb_meiler_barrow_mrcnn\\validation\\x\\914.tif\n",
      "Processing 1 images\n",
      "image                    shape: (256, 256, 1)         min:    0.00000  max:    1.00000  float32\n",
      "molded_images            shape: (1, 256, 256, 1)      min:    0.00000  max:    1.00000  float64\n",
      "image_metas              shape: (1, 16)               min:    0.00000  max:  256.00000  int32\n",
      "anchors                  shape: (1, 16368, 4)         min:   -0.70988  max:    1.45890  float32\n"
     ]
    },
    {
     "name": "stdout",
     "output_type": "stream",
     "text": [
      "['BBox', 'cls_id', 'conf']\n",
      "Running on ..\\data\\bomb_meiler_barrow_mrcnn\\validation\\x\\918.tif\n",
      "Processing 1 images\n",
      "image                    shape: (256, 256, 1)         min:    0.00000  max:    1.00000  float32\n",
      "molded_images            shape: (1, 256, 256, 1)      min:    0.00000  max:    1.00000  float64\n",
      "image_metas              shape: (1, 16)               min:    0.00000  max:  256.00000  int32\n",
      "anchors                  shape: (1, 16368, 4)         min:   -0.70988  max:    1.45890  float32\n",
      "['BBox', 'cls_id', 'conf']\n",
      "Running on ..\\data\\bomb_meiler_barrow_mrcnn\\validation\\x\\92.tif\n",
      "Processing 1 images\n",
      "image                    shape: (256, 256, 1)         min:    0.00000  max:    1.00000  float32\n",
      "molded_images            shape: (1, 256, 256, 1)      min:    0.00000  max:    1.00000  float64\n",
      "image_metas              shape: (1, 16)               min:    0.00000  max:  256.00000  int32\n",
      "anchors                  shape: (1, 16368, 4)         min:   -0.70988  max:    1.45890  float32\n",
      "['BBox', 'cls_id', 'conf']\n",
      "['BBox', 'cls_id', 'conf']\n",
      "['BBox', 'cls_id', 'conf']\n",
      "['BBox', 'cls_id', 'conf']\n",
      "['BBox', 'cls_id', 'conf']\n",
      "Running on ..\\data\\bomb_meiler_barrow_mrcnn\\validation\\x\\93.tif\n",
      "Processing 1 images\n",
      "image                    shape: (256, 256, 1)         min:    0.00000  max:    1.00000  float32\n",
      "molded_images            shape: (1, 256, 256, 1)      min:    0.00000  max:    1.00000  float64\n",
      "image_metas              shape: (1, 16)               min:    0.00000  max:  256.00000  int32\n",
      "anchors                  shape: (1, 16368, 4)         min:   -0.70988  max:    1.45890  float32\n",
      "['BBox', 'cls_id', 'conf']\n",
      "['BBox', 'cls_id', 'conf']\n",
      "['BBox', 'cls_id', 'conf']\n",
      "['BBox', 'cls_id', 'conf']\n",
      "['BBox', 'cls_id', 'conf']\n",
      "Running on ..\\data\\bomb_meiler_barrow_mrcnn\\validation\\x\\942.tif\n",
      "Processing 1 images\n",
      "image                    shape: (256, 256, 1)         min:    0.00000  max:    1.00000  float32\n",
      "molded_images            shape: (1, 256, 256, 1)      min:    0.00000  max:    1.00000  float64\n",
      "image_metas              shape: (1, 16)               min:    0.00000  max:  256.00000  int32\n",
      "anchors                  shape: (1, 16368, 4)         min:   -0.70988  max:    1.45890  float32\n",
      "['BBox', 'cls_id', 'conf']\n",
      "Running on ..\\data\\bomb_meiler_barrow_mrcnn\\validation\\x\\944.tif\n",
      "Processing 1 images\n",
      "image                    shape: (256, 256, 1)         min:    0.00000  max:    1.00000  float32\n",
      "molded_images            shape: (1, 256, 256, 1)      min:    0.00000  max:    1.00000  float64\n",
      "image_metas              shape: (1, 16)               min:    0.00000  max:  256.00000  int32\n",
      "anchors                  shape: (1, 16368, 4)         min:   -0.70988  max:    1.45890  float32\n",
      "['BBox', 'cls_id', 'conf']\n",
      "Running on ..\\data\\bomb_meiler_barrow_mrcnn\\validation\\x\\946.tif\n",
      "Processing 1 images\n",
      "image                    shape: (256, 256, 1)         min:    0.00000  max:    1.00000  float32\n",
      "molded_images            shape: (1, 256, 256, 1)      min:    0.00000  max:    1.00000  float64\n",
      "image_metas              shape: (1, 16)               min:    0.00000  max:  256.00000  int32\n",
      "anchors                  shape: (1, 16368, 4)         min:   -0.70988  max:    1.45890  float32\n",
      "['BBox', 'cls_id', 'conf']\n",
      "Running on ..\\data\\bomb_meiler_barrow_mrcnn\\validation\\x\\95.tif\n",
      "Processing 1 images\n",
      "image                    shape: (256, 256, 1)         min:    0.00000  max:    1.00000  float32\n",
      "molded_images            shape: (1, 256, 256, 1)      min:    0.00000  max:    1.00000  float64\n",
      "image_metas              shape: (1, 16)               min:    0.00000  max:  256.00000  int32\n",
      "anchors                  shape: (1, 16368, 4)         min:   -0.70988  max:    1.45890  float32\n",
      "['BBox', 'cls_id', 'conf']\n",
      "['BBox', 'cls_id', 'conf']\n",
      "['BBox', 'cls_id', 'conf']\n",
      "['BBox', 'cls_id', 'conf']\n",
      "['BBox', 'cls_id', 'conf']\n",
      "['BBox', 'cls_id', 'conf']\n",
      "['BBox', 'cls_id', 'conf']\n",
      "['BBox', 'cls_id', 'conf']\n",
      "Running on ..\\data\\bomb_meiler_barrow_mrcnn\\validation\\x\\980.tif\n",
      "Processing 1 images\n",
      "image                    shape: (256, 256, 1)         min:    0.00000  max:    1.00000  float32\n",
      "molded_images            shape: (1, 256, 256, 1)      min:    0.00000  max:    1.00000  float64\n",
      "image_metas              shape: (1, 16)               min:    0.00000  max:  256.00000  int32\n",
      "anchors                  shape: (1, 16368, 4)         min:   -0.70988  max:    1.45890  float32\n",
      "['BBox', 'cls_id', 'conf']\n",
      "Running on ..\\data\\bomb_meiler_barrow_mrcnn\\validation\\x\\984.tif\n",
      "Processing 1 images\n",
      "image                    shape: (256, 256, 1)         min:    0.00000  max:    1.00000  float32\n",
      "molded_images            shape: (1, 256, 256, 1)      min:    0.00000  max:    1.00000  float64\n",
      "image_metas              shape: (1, 16)               min:    0.00000  max:  256.00000  int32\n",
      "anchors                  shape: (1, 16368, 4)         min:   -0.70988  max:    1.45890  float32\n",
      "['BBox', 'cls_id', 'conf']\n",
      "Running on ..\\data\\bomb_meiler_barrow_mrcnn\\validation\\x\\992.tif\n",
      "Processing 1 images\n",
      "image                    shape: (256, 256, 1)         min:    0.00000  max:    1.00000  float32\n",
      "molded_images            shape: (1, 256, 256, 1)      min:    0.00000  max:    1.00000  float64\n",
      "image_metas              shape: (1, 16)               min:    0.00000  max:  256.00000  int32\n",
      "anchors                  shape: (1, 16368, 4)         min:   -0.70988  max:    1.45890  float32\n",
      "['BBox', 'cls_id', 'conf']\n"
     ]
    }
   ],
   "source": [
    "for my_im in images:\n",
    "    r = harz.detect_and_color_splash(model, my_im)\n",
    "    ut.write_results_to_polygons(results_dir, my_im, r,height=256,width=256)"
   ]
  },
  {
   "cell_type": "code",
   "execution_count": 60,
   "metadata": {},
   "outputs": [],
   "source": [
    "a = np.array([[0,0,0,0,0],[0,0,0,1,0],[0,2,0,0,0],[0,0,0,0,0],[0,0,0,0,0]])"
   ]
  },
  {
   "cell_type": "code",
   "execution_count": 74,
   "metadata": {},
   "outputs": [
    {
     "name": "stdout",
     "output_type": "stream",
     "text": [
      "[0, 0, 0, 0, 0]\n",
      "[0, 0, 0, 1, 0]\n",
      "[0, 2, 0, 0, 0]\n",
      "[0, 0, 0, 0, 0]\n",
      "[0, 0, 0, 0, 0]\n"
     ]
    }
   ],
   "source": [
    "for i in range(a.shape[0]):\n",
    "    print( [ a[i,j] for j in range(a.shape[1])])"
   ]
  },
  {
   "cell_type": "code",
   "execution_count": 75,
   "metadata": {},
   "outputs": [
    {
     "data": {
      "text/plain": [
       "array([[0, 0, 0, 0, 0],\n",
       "       [0, 1, 0, 0, 0],\n",
       "       [0, 0, 0, 0, 0],\n",
       "       [0, 0, 2, 0, 0],\n",
       "       [0, 0, 0, 0, 0]])"
      ]
     },
     "execution_count": 75,
     "metadata": {},
     "output_type": "execute_result"
    }
   ],
   "source": [
    "np.rot90(a,1)"
   ]
  },
  {
   "cell_type": "code",
   "execution_count": 65,
   "metadata": {},
   "outputs": [
    {
     "data": {
      "text/plain": [
       "array([[0, 0, 0, 0, 0],\n",
       "       [0, 1, 0, 0, 0],\n",
       "       [0, 0, 0, 0, 0],\n",
       "       [0, 0, 2, 0, 0],\n",
       "       [0, 0, 0, 0, 0]])"
      ]
     },
     "execution_count": 65,
     "metadata": {},
     "output_type": "execute_result"
    }
   ],
   "source": [
    "np.fliplr(np.flipud(np.rot90(a,3)))"
   ]
  },
  {
   "cell_type": "code",
   "execution_count": 36,
   "metadata": {},
   "outputs": [
    {
     "name": "stdout",
     "output_type": "stream",
     "text": [
      "[0, 2, 0, 0, 0]\n",
      "[0, 2, 0, 0, 0]\n",
      "[0, 0, 0, 0, 0]\n",
      "[0, 1, 1, 1, 0]\n",
      "[0, 0, 0, 0, 0]\n"
     ]
    }
   ],
   "source": [
    "for i in range(b.shape[0]):\n",
    "    print( [ b[i,j] for j in range(b.shape[1])])"
   ]
  },
  {
   "cell_type": "code",
   "execution_count": 35,
   "metadata": {},
   "outputs": [
    {
     "data": {
      "text/plain": [
       "array([[0, 2, 0, 0, 0],\n",
       "       [0, 2, 0, 0, 0],\n",
       "       [0, 0, 0, 0, 0],\n",
       "       [0, 1, 1, 1, 0],\n",
       "       [0, 0, 0, 0, 0]])"
      ]
     },
     "execution_count": 35,
     "metadata": {},
     "output_type": "execute_result"
    }
   ],
   "source": [
    "b"
   ]
  },
  {
   "cell_type": "code",
   "execution_count": 33,
   "metadata": {},
   "outputs": [],
   "source": [
    "b = np.flipud(a)"
   ]
  },
  {
   "cell_type": "code",
   "execution_count": 9,
   "metadata": {},
   "outputs": [
    {
     "data": {
      "text/plain": [
       "int"
      ]
     },
     "execution_count": 9,
     "metadata": {},
     "output_type": "execute_result"
    }
   ],
   "source": [
    "import ogr\n",
    "type(int((r['class_ids'][0])))"
   ]
  },
  {
   "cell_type": "code",
   "execution_count": 2,
   "metadata": {},
   "outputs": [
    {
     "name": "stdout",
     "output_type": "stream",
     "text": [
      "(1, 256, 256)\n",
      "['BBox', 'cls_id', 'conf']\n"
     ]
    }
   ],
   "source": [
    "out = np.zeros((len(r['scores']),256,256))\n",
    "print(out.shape)\n",
    "for i in range(len(r['scores'])):\n",
    "    out[i][r['rois'][i][0]:r['rois'][i][2],r['rois'][i][1]:r['rois'][i][3]] = 1\n",
    "    \n",
    "for i in range(out.shape[0]):\n",
    "    ut.write_numpy_array_to_tif(np.flipud(out[i]), 'w9_ters'+str(i)+'.tif', original_tif=my_im)\n",
    "ut.mask_to_polygon3(my_im, np.flipud(out[0]),np.flipud(r['masks'][:,:,-1]), 'shpf1.shp', None,2,0.99954754)"
   ]
  },
  {
   "cell_type": "code",
   "execution_count": 19,
   "metadata": {},
   "outputs": [
    {
     "data": {
      "text/plain": [
       "['..\\\\data\\\\bomb_meiler_barrow_mrcnn\\\\validation\\\\x\\\\1004.tif',\n",
       " '..\\\\data\\\\bomb_meiler_barrow_mrcnn\\\\validation\\\\x\\\\1005.tif',\n",
       " '..\\\\data\\\\bomb_meiler_barrow_mrcnn\\\\validation\\\\x\\\\1013.tif',\n",
       " '..\\\\data\\\\bomb_meiler_barrow_mrcnn\\\\validation\\\\x\\\\1025.tif',\n",
       " '..\\\\data\\\\bomb_meiler_barrow_mrcnn\\\\validation\\\\x\\\\1031.tif',\n",
       " '..\\\\data\\\\bomb_meiler_barrow_mrcnn\\\\validation\\\\x\\\\1032.tif',\n",
       " '..\\\\data\\\\bomb_meiler_barrow_mrcnn\\\\validation\\\\x\\\\1035.tif',\n",
       " '..\\\\data\\\\bomb_meiler_barrow_mrcnn\\\\validation\\\\x\\\\1040.tif',\n",
       " '..\\\\data\\\\bomb_meiler_barrow_mrcnn\\\\validation\\\\x\\\\1087.tif',\n",
       " '..\\\\data\\\\bomb_meiler_barrow_mrcnn\\\\validation\\\\x\\\\1089.tif',\n",
       " '..\\\\data\\\\bomb_meiler_barrow_mrcnn\\\\validation\\\\x\\\\1114.tif',\n",
       " '..\\\\data\\\\bomb_meiler_barrow_mrcnn\\\\validation\\\\x\\\\1123.tif',\n",
       " '..\\\\data\\\\bomb_meiler_barrow_mrcnn\\\\validation\\\\x\\\\1129.tif',\n",
       " '..\\\\data\\\\bomb_meiler_barrow_mrcnn\\\\validation\\\\x\\\\1139.tif',\n",
       " '..\\\\data\\\\bomb_meiler_barrow_mrcnn\\\\validation\\\\x\\\\114.tif',\n",
       " '..\\\\data\\\\bomb_meiler_barrow_mrcnn\\\\validation\\\\x\\\\1152.tif',\n",
       " '..\\\\data\\\\bomb_meiler_barrow_mrcnn\\\\validation\\\\x\\\\117.tif',\n",
       " '..\\\\data\\\\bomb_meiler_barrow_mrcnn\\\\validation\\\\x\\\\1181.tif',\n",
       " '..\\\\data\\\\bomb_meiler_barrow_mrcnn\\\\validation\\\\x\\\\1202.tif',\n",
       " '..\\\\data\\\\bomb_meiler_barrow_mrcnn\\\\validation\\\\x\\\\1207.tif',\n",
       " '..\\\\data\\\\bomb_meiler_barrow_mrcnn\\\\validation\\\\x\\\\1208.tif',\n",
       " '..\\\\data\\\\bomb_meiler_barrow_mrcnn\\\\validation\\\\x\\\\1213.tif',\n",
       " '..\\\\data\\\\bomb_meiler_barrow_mrcnn\\\\validation\\\\x\\\\1216.tif',\n",
       " '..\\\\data\\\\bomb_meiler_barrow_mrcnn\\\\validation\\\\x\\\\1224.tif',\n",
       " '..\\\\data\\\\bomb_meiler_barrow_mrcnn\\\\validation\\\\x\\\\1230.tif',\n",
       " '..\\\\data\\\\bomb_meiler_barrow_mrcnn\\\\validation\\\\x\\\\1234.tif',\n",
       " '..\\\\data\\\\bomb_meiler_barrow_mrcnn\\\\validation\\\\x\\\\1263.tif',\n",
       " '..\\\\data\\\\bomb_meiler_barrow_mrcnn\\\\validation\\\\x\\\\1276.tif',\n",
       " '..\\\\data\\\\bomb_meiler_barrow_mrcnn\\\\validation\\\\x\\\\1283.tif',\n",
       " '..\\\\data\\\\bomb_meiler_barrow_mrcnn\\\\validation\\\\x\\\\1294.tif',\n",
       " '..\\\\data\\\\bomb_meiler_barrow_mrcnn\\\\validation\\\\x\\\\1315.tif',\n",
       " '..\\\\data\\\\bomb_meiler_barrow_mrcnn\\\\validation\\\\x\\\\1325.tif',\n",
       " '..\\\\data\\\\bomb_meiler_barrow_mrcnn\\\\validation\\\\x\\\\1326.tif',\n",
       " '..\\\\data\\\\bomb_meiler_barrow_mrcnn\\\\validation\\\\x\\\\1350.tif',\n",
       " '..\\\\data\\\\bomb_meiler_barrow_mrcnn\\\\validation\\\\x\\\\1359.tif',\n",
       " '..\\\\data\\\\bomb_meiler_barrow_mrcnn\\\\validation\\\\x\\\\1375.tif',\n",
       " '..\\\\data\\\\bomb_meiler_barrow_mrcnn\\\\validation\\\\x\\\\1386.tif',\n",
       " '..\\\\data\\\\bomb_meiler_barrow_mrcnn\\\\validation\\\\x\\\\1394.tif',\n",
       " '..\\\\data\\\\bomb_meiler_barrow_mrcnn\\\\validation\\\\x\\\\159.tif',\n",
       " '..\\\\data\\\\bomb_meiler_barrow_mrcnn\\\\validation\\\\x\\\\173.tif',\n",
       " '..\\\\data\\\\bomb_meiler_barrow_mrcnn\\\\validation\\\\x\\\\176.tif',\n",
       " '..\\\\data\\\\bomb_meiler_barrow_mrcnn\\\\validation\\\\x\\\\184.tif',\n",
       " '..\\\\data\\\\bomb_meiler_barrow_mrcnn\\\\validation\\\\x\\\\192.tif',\n",
       " '..\\\\data\\\\bomb_meiler_barrow_mrcnn\\\\validation\\\\x\\\\20.tif',\n",
       " '..\\\\data\\\\bomb_meiler_barrow_mrcnn\\\\validation\\\\x\\\\204.tif',\n",
       " '..\\\\data\\\\bomb_meiler_barrow_mrcnn\\\\validation\\\\x\\\\216.tif',\n",
       " '..\\\\data\\\\bomb_meiler_barrow_mrcnn\\\\validation\\\\x\\\\233.tif',\n",
       " '..\\\\data\\\\bomb_meiler_barrow_mrcnn\\\\validation\\\\x\\\\238.tif',\n",
       " '..\\\\data\\\\bomb_meiler_barrow_mrcnn\\\\validation\\\\x\\\\242.tif',\n",
       " '..\\\\data\\\\bomb_meiler_barrow_mrcnn\\\\validation\\\\x\\\\248.tif',\n",
       " '..\\\\data\\\\bomb_meiler_barrow_mrcnn\\\\validation\\\\x\\\\259.tif',\n",
       " '..\\\\data\\\\bomb_meiler_barrow_mrcnn\\\\validation\\\\x\\\\294.tif',\n",
       " '..\\\\data\\\\bomb_meiler_barrow_mrcnn\\\\validation\\\\x\\\\300.tif',\n",
       " '..\\\\data\\\\bomb_meiler_barrow_mrcnn\\\\validation\\\\x\\\\307.tif',\n",
       " '..\\\\data\\\\bomb_meiler_barrow_mrcnn\\\\validation\\\\x\\\\317.tif',\n",
       " '..\\\\data\\\\bomb_meiler_barrow_mrcnn\\\\validation\\\\x\\\\328.tif',\n",
       " '..\\\\data\\\\bomb_meiler_barrow_mrcnn\\\\validation\\\\x\\\\346.tif',\n",
       " '..\\\\data\\\\bomb_meiler_barrow_mrcnn\\\\validation\\\\x\\\\347.tif',\n",
       " '..\\\\data\\\\bomb_meiler_barrow_mrcnn\\\\validation\\\\x\\\\35.tif',\n",
       " '..\\\\data\\\\bomb_meiler_barrow_mrcnn\\\\validation\\\\x\\\\359.tif',\n",
       " '..\\\\data\\\\bomb_meiler_barrow_mrcnn\\\\validation\\\\x\\\\360.tif',\n",
       " '..\\\\data\\\\bomb_meiler_barrow_mrcnn\\\\validation\\\\x\\\\372.tif',\n",
       " '..\\\\data\\\\bomb_meiler_barrow_mrcnn\\\\validation\\\\x\\\\382.tif',\n",
       " '..\\\\data\\\\bomb_meiler_barrow_mrcnn\\\\validation\\\\x\\\\393.tif',\n",
       " '..\\\\data\\\\bomb_meiler_barrow_mrcnn\\\\validation\\\\x\\\\396.tif',\n",
       " '..\\\\data\\\\bomb_meiler_barrow_mrcnn\\\\validation\\\\x\\\\40.tif',\n",
       " '..\\\\data\\\\bomb_meiler_barrow_mrcnn\\\\validation\\\\x\\\\432.tif',\n",
       " '..\\\\data\\\\bomb_meiler_barrow_mrcnn\\\\validation\\\\x\\\\436.tif',\n",
       " '..\\\\data\\\\bomb_meiler_barrow_mrcnn\\\\validation\\\\x\\\\439.tif',\n",
       " '..\\\\data\\\\bomb_meiler_barrow_mrcnn\\\\validation\\\\x\\\\440.tif',\n",
       " '..\\\\data\\\\bomb_meiler_barrow_mrcnn\\\\validation\\\\x\\\\441.tif',\n",
       " '..\\\\data\\\\bomb_meiler_barrow_mrcnn\\\\validation\\\\x\\\\452.tif',\n",
       " '..\\\\data\\\\bomb_meiler_barrow_mrcnn\\\\validation\\\\x\\\\458.tif',\n",
       " '..\\\\data\\\\bomb_meiler_barrow_mrcnn\\\\validation\\\\x\\\\460.tif',\n",
       " '..\\\\data\\\\bomb_meiler_barrow_mrcnn\\\\validation\\\\x\\\\472.tif',\n",
       " '..\\\\data\\\\bomb_meiler_barrow_mrcnn\\\\validation\\\\x\\\\503.tif',\n",
       " '..\\\\data\\\\bomb_meiler_barrow_mrcnn\\\\validation\\\\x\\\\507.tif',\n",
       " '..\\\\data\\\\bomb_meiler_barrow_mrcnn\\\\validation\\\\x\\\\515.tif',\n",
       " '..\\\\data\\\\bomb_meiler_barrow_mrcnn\\\\validation\\\\x\\\\535.tif',\n",
       " '..\\\\data\\\\bomb_meiler_barrow_mrcnn\\\\validation\\\\x\\\\57.tif',\n",
       " '..\\\\data\\\\bomb_meiler_barrow_mrcnn\\\\validation\\\\x\\\\578.tif',\n",
       " '..\\\\data\\\\bomb_meiler_barrow_mrcnn\\\\validation\\\\x\\\\579.tif',\n",
       " '..\\\\data\\\\bomb_meiler_barrow_mrcnn\\\\validation\\\\x\\\\585.tif',\n",
       " '..\\\\data\\\\bomb_meiler_barrow_mrcnn\\\\validation\\\\x\\\\59.tif',\n",
       " '..\\\\data\\\\bomb_meiler_barrow_mrcnn\\\\validation\\\\x\\\\591.tif',\n",
       " '..\\\\data\\\\bomb_meiler_barrow_mrcnn\\\\validation\\\\x\\\\61.tif',\n",
       " '..\\\\data\\\\bomb_meiler_barrow_mrcnn\\\\validation\\\\x\\\\614.tif',\n",
       " '..\\\\data\\\\bomb_meiler_barrow_mrcnn\\\\validation\\\\x\\\\616.tif',\n",
       " '..\\\\data\\\\bomb_meiler_barrow_mrcnn\\\\validation\\\\x\\\\63.tif',\n",
       " '..\\\\data\\\\bomb_meiler_barrow_mrcnn\\\\validation\\\\x\\\\630.tif',\n",
       " '..\\\\data\\\\bomb_meiler_barrow_mrcnn\\\\validation\\\\x\\\\659.tif',\n",
       " '..\\\\data\\\\bomb_meiler_barrow_mrcnn\\\\validation\\\\x\\\\663.tif',\n",
       " '..\\\\data\\\\bomb_meiler_barrow_mrcnn\\\\validation\\\\x\\\\668.tif',\n",
       " '..\\\\data\\\\bomb_meiler_barrow_mrcnn\\\\validation\\\\x\\\\675.tif',\n",
       " '..\\\\data\\\\bomb_meiler_barrow_mrcnn\\\\validation\\\\x\\\\695.tif',\n",
       " '..\\\\data\\\\bomb_meiler_barrow_mrcnn\\\\validation\\\\x\\\\696.tif',\n",
       " '..\\\\data\\\\bomb_meiler_barrow_mrcnn\\\\validation\\\\x\\\\70.tif',\n",
       " '..\\\\data\\\\bomb_meiler_barrow_mrcnn\\\\validation\\\\x\\\\714.tif',\n",
       " '..\\\\data\\\\bomb_meiler_barrow_mrcnn\\\\validation\\\\x\\\\721.tif',\n",
       " '..\\\\data\\\\bomb_meiler_barrow_mrcnn\\\\validation\\\\x\\\\727.tif',\n",
       " '..\\\\data\\\\bomb_meiler_barrow_mrcnn\\\\validation\\\\x\\\\729.tif',\n",
       " '..\\\\data\\\\bomb_meiler_barrow_mrcnn\\\\validation\\\\x\\\\73.tif',\n",
       " '..\\\\data\\\\bomb_meiler_barrow_mrcnn\\\\validation\\\\x\\\\731.tif',\n",
       " '..\\\\data\\\\bomb_meiler_barrow_mrcnn\\\\validation\\\\x\\\\737.tif',\n",
       " '..\\\\data\\\\bomb_meiler_barrow_mrcnn\\\\validation\\\\x\\\\748.tif',\n",
       " '..\\\\data\\\\bomb_meiler_barrow_mrcnn\\\\validation\\\\x\\\\763.tif',\n",
       " '..\\\\data\\\\bomb_meiler_barrow_mrcnn\\\\validation\\\\x\\\\768.tif',\n",
       " '..\\\\data\\\\bomb_meiler_barrow_mrcnn\\\\validation\\\\x\\\\777.tif',\n",
       " '..\\\\data\\\\bomb_meiler_barrow_mrcnn\\\\validation\\\\x\\\\778.tif',\n",
       " '..\\\\data\\\\bomb_meiler_barrow_mrcnn\\\\validation\\\\x\\\\787.tif',\n",
       " '..\\\\data\\\\bomb_meiler_barrow_mrcnn\\\\validation\\\\x\\\\796.tif',\n",
       " '..\\\\data\\\\bomb_meiler_barrow_mrcnn\\\\validation\\\\x\\\\802.tif',\n",
       " '..\\\\data\\\\bomb_meiler_barrow_mrcnn\\\\validation\\\\x\\\\804.tif',\n",
       " '..\\\\data\\\\bomb_meiler_barrow_mrcnn\\\\validation\\\\x\\\\805.tif',\n",
       " '..\\\\data\\\\bomb_meiler_barrow_mrcnn\\\\validation\\\\x\\\\81.tif',\n",
       " '..\\\\data\\\\bomb_meiler_barrow_mrcnn\\\\validation\\\\x\\\\819.tif',\n",
       " '..\\\\data\\\\bomb_meiler_barrow_mrcnn\\\\validation\\\\x\\\\831.tif',\n",
       " '..\\\\data\\\\bomb_meiler_barrow_mrcnn\\\\validation\\\\x\\\\835.tif',\n",
       " '..\\\\data\\\\bomb_meiler_barrow_mrcnn\\\\validation\\\\x\\\\837.tif',\n",
       " '..\\\\data\\\\bomb_meiler_barrow_mrcnn\\\\validation\\\\x\\\\842.tif',\n",
       " '..\\\\data\\\\bomb_meiler_barrow_mrcnn\\\\validation\\\\x\\\\854.tif',\n",
       " '..\\\\data\\\\bomb_meiler_barrow_mrcnn\\\\validation\\\\x\\\\863.tif',\n",
       " '..\\\\data\\\\bomb_meiler_barrow_mrcnn\\\\validation\\\\x\\\\880.tif',\n",
       " '..\\\\data\\\\bomb_meiler_barrow_mrcnn\\\\validation\\\\x\\\\884.tif',\n",
       " '..\\\\data\\\\bomb_meiler_barrow_mrcnn\\\\validation\\\\x\\\\892.tif',\n",
       " '..\\\\data\\\\bomb_meiler_barrow_mrcnn\\\\validation\\\\x\\\\898.tif',\n",
       " '..\\\\data\\\\bomb_meiler_barrow_mrcnn\\\\validation\\\\x\\\\904.tif',\n",
       " '..\\\\data\\\\bomb_meiler_barrow_mrcnn\\\\validation\\\\x\\\\913.tif',\n",
       " '..\\\\data\\\\bomb_meiler_barrow_mrcnn\\\\validation\\\\x\\\\914.tif',\n",
       " '..\\\\data\\\\bomb_meiler_barrow_mrcnn\\\\validation\\\\x\\\\918.tif',\n",
       " '..\\\\data\\\\bomb_meiler_barrow_mrcnn\\\\validation\\\\x\\\\92.tif',\n",
       " '..\\\\data\\\\bomb_meiler_barrow_mrcnn\\\\validation\\\\x\\\\93.tif',\n",
       " '..\\\\data\\\\bomb_meiler_barrow_mrcnn\\\\validation\\\\x\\\\942.tif',\n",
       " '..\\\\data\\\\bomb_meiler_barrow_mrcnn\\\\validation\\\\x\\\\944.tif',\n",
       " '..\\\\data\\\\bomb_meiler_barrow_mrcnn\\\\validation\\\\x\\\\946.tif',\n",
       " '..\\\\data\\\\bomb_meiler_barrow_mrcnn\\\\validation\\\\x\\\\95.tif',\n",
       " '..\\\\data\\\\bomb_meiler_barrow_mrcnn\\\\validation\\\\x\\\\980.tif',\n",
       " '..\\\\data\\\\bomb_meiler_barrow_mrcnn\\\\validation\\\\x\\\\984.tif',\n",
       " '..\\\\data\\\\bomb_meiler_barrow_mrcnn\\\\validation\\\\x\\\\992.tif']"
      ]
     },
     "execution_count": 19,
     "metadata": {},
     "output_type": "execute_result"
    }
   ],
   "source": [
    "images"
   ]
  },
  {
   "cell_type": "code",
   "execution_count": 65,
   "metadata": {},
   "outputs": [
    {
     "name": "stdout",
     "output_type": "stream",
     "text": [
      "[[0 1]\n",
      " [1 0]\n",
      " [0 1]\n",
      " [1 0]\n",
      " [0 1]\n",
      " [1 0]\n",
      " [0 1]\n",
      " [1 0]]\n"
     ]
    }
   ],
   "source": [
    "b = np.array([[0,1],[1,0],[0,1],[1,0],[0,1],[1,0],[0,1],[1,0]])\n",
    "print(b)"
   ]
  },
  {
   "cell_type": "code",
   "execution_count": 46,
   "metadata": {},
   "outputs": [],
   "source": [
    "b[b==1][0] = -1"
   ]
  },
  {
   "cell_type": "code",
   "execution_count": 66,
   "metadata": {},
   "outputs": [],
   "source": [
    "c = b==1"
   ]
  },
  {
   "cell_type": "code",
   "execution_count": 67,
   "metadata": {},
   "outputs": [],
   "source": [
    "d = b[c]"
   ]
  },
  {
   "cell_type": "code",
   "execution_count": 68,
   "metadata": {},
   "outputs": [
    {
     "data": {
      "text/plain": [
       "array([1, 1, 1, 1, 1, 1, 1, 1])"
      ]
     },
     "execution_count": 68,
     "metadata": {},
     "output_type": "execute_result"
    }
   ],
   "source": [
    "d"
   ]
  },
  {
   "cell_type": "code",
   "execution_count": 69,
   "metadata": {},
   "outputs": [],
   "source": [
    "d[0:4] = -1"
   ]
  },
  {
   "cell_type": "code",
   "execution_count": 70,
   "metadata": {},
   "outputs": [
    {
     "data": {
      "text/plain": [
       "array([-1, -1, -1, -1,  1,  1,  1,  1])"
      ]
     },
     "execution_count": 70,
     "metadata": {},
     "output_type": "execute_result"
    }
   ],
   "source": [
    "d"
   ]
  },
  {
   "cell_type": "code",
   "execution_count": 71,
   "metadata": {},
   "outputs": [],
   "source": [
    "b[c] = d"
   ]
  },
  {
   "cell_type": "code",
   "execution_count": 72,
   "metadata": {},
   "outputs": [
    {
     "data": {
      "text/plain": [
       "array([[ 0, -1],\n",
       "       [-1,  0],\n",
       "       [ 0, -1],\n",
       "       [-1,  0],\n",
       "       [ 0,  1],\n",
       "       [ 1,  0],\n",
       "       [ 0,  1],\n",
       "       [ 1,  0]])"
      ]
     },
     "execution_count": 72,
     "metadata": {},
     "output_type": "execute_result"
    }
   ],
   "source": [
    "b"
   ]
  },
  {
   "cell_type": "code",
   "execution_count": 8,
   "metadata": {},
   "outputs": [
    {
     "name": "stdout",
     "output_type": "stream",
     "text": [
      "Running on ..\\data\\bomb_meiler_barrow_mrcnn\\validation\\x\\1004.tif\n",
      "Processing 1 images\n",
      "image                    shape: (256, 256, 1)         min:    0.00000  max:    1.00000  float32\n",
      "molded_images            shape: (1, 256, 256, 1)      min:    0.00000  max:    1.00000  float64\n",
      "image_metas              shape: (1, 16)               min:    0.00000  max:  256.00000  int32\n",
      "anchors                  shape: (1, 16368, 4)         min:   -0.70988  max:    1.45890  float32\n"
     ]
    }
   ],
   "source": []
  },
  {
   "cell_type": "code",
   "execution_count": 74,
   "metadata": {},
   "outputs": [
    {
     "data": {
      "text/plain": [
       "array([0.99954754], dtype=float32)"
      ]
     },
     "execution_count": 74,
     "metadata": {},
     "output_type": "execute_result"
    }
   ],
   "source": [
    "r['scores']"
   ]
  },
  {
   "cell_type": "code",
   "execution_count": 9,
   "metadata": {},
   "outputs": [
    {
     "data": {
      "text/plain": [
       "dict_keys(['rois', 'class_ids', 'scores', 'masks'])"
      ]
     },
     "execution_count": 9,
     "metadata": {},
     "output_type": "execute_result"
    }
   ],
   "source": [
    "r.keys()"
   ]
  },
  {
   "cell_type": "code",
   "execution_count": 77,
   "metadata": {},
   "outputs": [
    {
     "data": {
      "text/plain": [
       "(256, 256)"
      ]
     },
     "execution_count": 77,
     "metadata": {},
     "output_type": "execute_result"
    }
   ],
   "source": [
    "r['masks'][:,:,-1].shape\n"
   ]
  },
  {
   "cell_type": "code",
   "execution_count": 11,
   "metadata": {},
   "outputs": [
    {
     "data": {
      "text/plain": [
       "(256, 256)"
      ]
     },
     "execution_count": 11,
     "metadata": {},
     "output_type": "execute_result"
    }
   ],
   "source": [
    "r['masks'][:,:,-1].astype(np.int32).shape"
   ]
  },
  {
   "cell_type": "code",
   "execution_count": 59,
   "metadata": {},
   "outputs": [],
   "source": [
    "import gdal\n",
    "import gdalconst\n",
    "a = gdal.Open(my_im,gdalconst.GA_ReadOnly)\n",
    "xoffset, px_w, rot1, yoffset, px_h, rot2 = a.GetGeoTransform()\n",
    "band = a.GetRasterBand(1)\n",
    "arr = np.array(band.ReadAsArray())"
   ]
  },
  {
   "cell_type": "code",
   "execution_count": 60,
   "metadata": {},
   "outputs": [
    {
     "data": {
      "text/plain": [
       "(611326.5, 0.5, 0.0, 5726972.0, 0.0, -0.5)"
      ]
     },
     "execution_count": 60,
     "metadata": {},
     "output_type": "execute_result"
    }
   ],
   "source": [
    "a.GetGeoTransform()"
   ]
  },
  {
   "cell_type": "code",
   "execution_count": 61,
   "metadata": {},
   "outputs": [],
   "source": [
    "x1 = 116\n",
    "x2 = 141\n",
    "y1 = 115\n",
    "y2 = 142"
   ]
  },
  {
   "cell_type": "code",
   "execution_count": 62,
   "metadata": {},
   "outputs": [],
   "source": [
    "posX1 = px_w * x1 + rot1 * y1 + xoffset\n",
    "posY1 = rot2 * x1 + px_h * y1 + yoffset"
   ]
  },
  {
   "cell_type": "code",
   "execution_count": 63,
   "metadata": {},
   "outputs": [],
   "source": [
    "posX2 = px_w * x2 + rot1 * y2 + xoffset\n",
    "posY2 = rot2 * x2 + px_h * y2 + yoffset"
   ]
  },
  {
   "cell_type": "code",
   "execution_count": 64,
   "metadata": {},
   "outputs": [
    {
     "name": "stdout",
     "output_type": "stream",
     "text": [
      "611384.5 611397.0 5726914.0 5726901.5\n"
     ]
    }
   ],
   "source": [
    "print(posX1,posX2,posY1,posY2)"
   ]
  },
  {
   "cell_type": "code",
   "execution_count": 41,
   "metadata": {},
   "outputs": [
    {
     "data": {
      "text/plain": [
       "(256, 256)"
      ]
     },
     "execution_count": 41,
     "metadata": {},
     "output_type": "execute_result"
    }
   ],
   "source": [
    "arr.shape"
   ]
  },
  {
   "cell_type": "code",
   "execution_count": 47,
   "metadata": {},
   "outputs": [
    {
     "data": {
      "text/plain": [
       "0"
      ]
     },
     "execution_count": 47,
     "metadata": {},
     "output_type": "execute_result"
    }
   ],
   "source": [
    "driver = gdal.GetDriverByName('MEM')\n",
    "ds = driver.Create('', 256, 256, 1,gdal.GDT_Float32)\n",
    "ds.GetRasterBand(1).WriteArray(np.array(band.ReadAsArray()))"
   ]
  },
  {
   "cell_type": "code",
   "execution_count": 48,
   "metadata": {},
   "outputs": [
    {
     "data": {
      "text/plain": [
       "(256, 256)"
      ]
     },
     "execution_count": 48,
     "metadata": {},
     "output_type": "execute_result"
    }
   ],
   "source": [
    "band2 = ds.GetRasterBand(1)\n",
    "arr2 = np.array(band2.ReadAsArray())\n",
    "arr2.shape"
   ]
  },
  {
   "cell_type": "code",
   "execution_count": 51,
   "metadata": {},
   "outputs": [
    {
     "data": {
      "text/plain": [
       "True"
      ]
     },
     "execution_count": 51,
     "metadata": {},
     "output_type": "execute_result"
    }
   ],
   "source": [
    "np.all(arr==arr2)"
   ]
  },
  {
   "cell_type": "code",
   "execution_count": 8,
   "metadata": {},
   "outputs": [
    {
     "name": "stdout",
     "output_type": "stream",
     "text": [
      "(1, 256, 256)\n"
     ]
    }
   ],
   "source": []
  },
  {
   "cell_type": "code",
   "execution_count": 9,
   "metadata": {},
   "outputs": [],
   "source": []
  },
  {
   "cell_type": "code",
   "execution_count": 14,
   "metadata": {},
   "outputs": [
    {
     "data": {
      "text/plain": [
       "'/notebooks/tmp/data/bomb1_meiler2/validation/x/marsly_HG_Dgm05239.tif'"
      ]
     },
     "execution_count": 14,
     "metadata": {},
     "output_type": "execute_result"
    }
   ],
   "source": [
    "images[0]"
   ]
  },
  {
   "cell_type": "code",
   "execution_count": 16,
   "metadata": {},
   "outputs": [],
   "source": [
    "import rasterio"
   ]
  },
  {
   "cell_type": "code",
   "execution_count": 26,
   "metadata": {},
   "outputs": [],
   "source": [
    "\n"
   ]
  },
  {
   "cell_type": "code",
   "execution_count": 23,
   "metadata": {},
   "outputs": [
    {
     "data": {
      "text/plain": [
       "(256, 256)"
      ]
     },
     "execution_count": 23,
     "metadata": {},
     "output_type": "execute_result"
    }
   ],
   "source": [
    "r['masks'][:,:,-1].shape"
   ]
  },
  {
   "cell_type": "code",
   "execution_count": 25,
   "metadata": {},
   "outputs": [
    {
     "data": {
      "text/plain": [
       "array([2])"
      ]
     },
     "execution_count": 25,
     "metadata": {},
     "output_type": "execute_result"
    }
   ],
   "source": [
    "r['class_ids']"
   ]
  },
  {
   "cell_type": "code",
   "execution_count": 10,
   "metadata": {},
   "outputs": [
    {
     "data": {
      "text/plain": [
       "2"
      ]
     },
     "execution_count": 10,
     "metadata": {},
     "output_type": "execute_result"
    }
   ],
   "source": [
    "r['class_ids'][0]"
   ]
  },
  {
   "cell_type": "code",
   "execution_count": 12,
   "metadata": {},
   "outputs": [
    {
     "ename": "AttributeError",
     "evalue": "'NoneType' object has no attribute 'CreateLayer'",
     "output_type": "error",
     "traceback": [
      "\u001b[1;31m---------------------------------------------------------------------------\u001b[0m",
      "\u001b[1;31mAttributeError\u001b[0m                            Traceback (most recent call last)",
      "\u001b[1;32m<ipython-input-12-240f4ec02e9e>\u001b[0m in \u001b[0;36m<module>\u001b[1;34m()\u001b[0m\n\u001b[1;32m----> 1\u001b[1;33m \u001b[0mut\u001b[0m\u001b[1;33m.\u001b[0m\u001b[0mwrite_results_to_polygons\u001b[0m\u001b[1;33m(\u001b[0m\u001b[1;34m'.'\u001b[0m\u001b[1;33m,\u001b[0m \u001b[0mmy_im\u001b[0m\u001b[1;33m,\u001b[0m \u001b[0mr\u001b[0m\u001b[1;33m,\u001b[0m\u001b[0mheight\u001b[0m\u001b[1;33m=\u001b[0m\u001b[1;36m256\u001b[0m\u001b[1;33m,\u001b[0m\u001b[0mwidth\u001b[0m\u001b[1;33m=\u001b[0m\u001b[1;36m256\u001b[0m\u001b[1;33m)\u001b[0m\u001b[1;33m\u001b[0m\u001b[0m\n\u001b[0m",
      "\u001b[1;32m\\\\KOKO\\tmp\\kazimi\\MaskDTM\\src\\my_utils.py\u001b[0m in \u001b[0;36mwrite_results_to_polygons\u001b[1;34m(results_dir, tif_file, result_dict, height, width)\u001b[0m\n\u001b[0;32m    957\u001b[0m     \u001b[0mout_bb_ds\u001b[0m \u001b[1;33m=\u001b[0m \u001b[0mdriver_save_ogr\u001b[0m\u001b[1;33m.\u001b[0m\u001b[0mCreateDataSource\u001b[0m\u001b[1;33m(\u001b[0m\u001b[0mbbox_shp_file\u001b[0m\u001b[1;33m)\u001b[0m\u001b[1;33m\u001b[0m\u001b[0m\n\u001b[0;32m    958\u001b[0m \u001b[1;33m\u001b[0m\u001b[0m\n\u001b[1;32m--> 959\u001b[1;33m     \u001b[0mout_mask_layer\u001b[0m \u001b[1;33m=\u001b[0m \u001b[0mout_mask_ds\u001b[0m\u001b[1;33m.\u001b[0m\u001b[0mCreateLayer\u001b[0m\u001b[1;33m(\u001b[0m\u001b[1;34m\"polygonized\"\u001b[0m\u001b[1;33m,\u001b[0m \u001b[0msrs\u001b[0m\u001b[1;33m=\u001b[0m\u001b[1;32mNone\u001b[0m\u001b[1;33m)\u001b[0m\u001b[1;33m\u001b[0m\u001b[0m\n\u001b[0m\u001b[0;32m    960\u001b[0m     \u001b[0mout_bb_layer\u001b[0m \u001b[1;33m=\u001b[0m \u001b[0mout_bb_ds\u001b[0m\u001b[1;33m.\u001b[0m\u001b[0mCreateLayer\u001b[0m\u001b[1;33m(\u001b[0m\u001b[1;34m\"polygonized\"\u001b[0m\u001b[1;33m,\u001b[0m \u001b[0msrs\u001b[0m\u001b[1;33m=\u001b[0m\u001b[1;32mNone\u001b[0m\u001b[1;33m)\u001b[0m\u001b[1;33m\u001b[0m\u001b[0m\n\u001b[0;32m    961\u001b[0m \u001b[1;33m\u001b[0m\u001b[0m\n",
      "\u001b[1;31mAttributeError\u001b[0m: 'NoneType' object has no attribute 'CreateLayer'"
     ]
    }
   ],
   "source": []
  },
  {
   "cell_type": "code",
   "execution_count": 43,
   "metadata": {},
   "outputs": [
    {
     "name": "stdout",
     "output_type": "stream",
     "text": [
      "['BBox', 'cls_id', 'conf']\n"
     ]
    }
   ],
   "source": []
  },
  {
   "cell_type": "code",
   "execution_count": 96,
   "metadata": {},
   "outputs": [],
   "source": [
    "# results_dir = r'..\\data\\bomb_meiler_barrow_mrcnn\\validation\\results'\n",
    "dataset_dirX=r'..\\data\\bomb_meiler_barrow_mrcnn\\validation\\x'\n",
    "dataset_dirY=r'..\\data\\bomb_meiler_barrow_mrcnn\\validation/ys/masks'\n",
    "dataset = harz.HarzDataset()\n",
    "dataset.load_harz(dataset_dirX, dataset_dirY,256,256,classnames = ['bomb','meiler','barrows'])"
   ]
  },
  {
   "cell_type": "code",
   "execution_count": 97,
   "metadata": {},
   "outputs": [],
   "source": [
    "dataset.prepare()"
   ]
  },
  {
   "cell_type": "code",
   "execution_count": 98,
   "metadata": {},
   "outputs": [],
   "source": [
    "import random\n",
    "image_id = random.choice(dataset.image_ids)\n"
   ]
  },
  {
   "cell_type": "code",
   "execution_count": 85,
   "metadata": {},
   "outputs": [
    {
     "data": {
      "text/plain": [
       "89"
      ]
     },
     "execution_count": 85,
     "metadata": {},
     "output_type": "execute_result"
    }
   ],
   "source": [
    "image_id"
   ]
  },
  {
   "cell_type": "code",
   "execution_count": 99,
   "metadata": {},
   "outputs": [],
   "source": [
    "image, image_meta, gt_class_id, gt_bbox, gt_mask =\\\n",
    "    modellib.load_image_gt(dataset, config, image_id, use_mini_mask=False)"
   ]
  },
  {
   "cell_type": "code",
   "execution_count": 100,
   "metadata": {},
   "outputs": [
    {
     "name": "stdout",
     "output_type": "stream",
     "text": [
      "image ID: harz.114.tif (14) ..\\data\\bomb_meiler_barrow_mrcnn\\validation\\x\\114.tif\n"
     ]
    }
   ],
   "source": [
    "info = dataset.image_info[image_id]\n",
    "print(\"image ID: {}.{} ({}) {}\".format(info[\"source\"], info[\"id\"], image_id, \n",
    "                                       dataset.image_reference(image_id)))"
   ]
  },
  {
   "cell_type": "code",
   "execution_count": 101,
   "metadata": {},
   "outputs": [
    {
     "data": {
      "text/plain": [
       "(256, 256, 1)"
      ]
     },
     "execution_count": 101,
     "metadata": {},
     "output_type": "execute_result"
    }
   ],
   "source": [
    "image.shape"
   ]
  },
  {
   "cell_type": "code",
   "execution_count": 89,
   "metadata": {},
   "outputs": [
    {
     "data": {
      "text/plain": [
       "1.0"
      ]
     },
     "execution_count": 89,
     "metadata": {},
     "output_type": "execute_result"
    }
   ],
   "source": [
    "image.max()"
   ]
  },
  {
   "cell_type": "code",
   "execution_count": 39,
   "metadata": {},
   "outputs": [],
   "source": [
    "image = ut.read_tif('/notebooks/tmp/data/new_mrcnn_data/validation/x/2801.tif')"
   ]
  },
  {
   "cell_type": "code",
   "execution_count": 128,
   "metadata": {},
   "outputs": [],
   "source": [
    "image = (image - image.min()) / (image.max() - image.min())\n",
    "image = np.expand_dims(image,-1)"
   ]
  },
  {
   "cell_type": "code",
   "execution_count": 102,
   "metadata": {},
   "outputs": [
    {
     "name": "stdout",
     "output_type": "stream",
     "text": [
      "Processing 1 images\n",
      "image                    shape: (256, 256, 1)         min:    0.00000  max:    1.00000  float32\n",
      "molded_images            shape: (1, 256, 256, 1)      min:    0.00000  max:    1.00000  float64\n",
      "image_metas              shape: (1, 16)               min:    0.00000  max:  256.00000  int32\n",
      "anchors                  shape: (1, 16368, 4)         min:   -0.70988  max:    1.45890  float32\n"
     ]
    }
   ],
   "source": [
    "results = model.detect([image], verbose=1)"
   ]
  },
  {
   "cell_type": "code",
   "execution_count": 91,
   "metadata": {},
   "outputs": [],
   "source": [
    "import matplotlib.pyplot as plt"
   ]
  },
  {
   "cell_type": "code",
   "execution_count": 92,
   "metadata": {},
   "outputs": [],
   "source": [
    "def get_ax(rows=1, cols=1, size=16):\n",
    "    \"\"\"Return a Matplotlib Axes array to be used in\n",
    "    all visualizations in the notebook. Provide a\n",
    "    central point to control graph sizes.\n",
    "    \n",
    "    Adjust the size attribute to control how big to render images\n",
    "    \"\"\"\n",
    "    _, ax = plt.subplots(rows, cols, figsize=(size*cols, size*rows))\n",
    "    return ax"
   ]
  },
  {
   "cell_type": "code",
   "execution_count": 94,
   "metadata": {},
   "outputs": [],
   "source": [
    "import imp\n",
    "# visualize = imp.reload(visualize)\n",
    "from src import visualize"
   ]
  },
  {
   "cell_type": "code",
   "execution_count": 49,
   "metadata": {},
   "outputs": [],
   "source": [
    "from rasterio.plot import show"
   ]
  },
  {
   "cell_type": "code",
   "execution_count": 83,
   "metadata": {},
   "outputs": [],
   "source": [
    "r_file ='573000_5752000_3hs.tif'\n",
    "raster = rasterio.open(r_file)"
   ]
  },
  {
   "cell_type": "code",
   "execution_count": 53,
   "metadata": {},
   "outputs": [
    {
     "data": {
      "image/png": "[encoded data removed]",
      "text/plain": [
       "<Figure size 720x432 with 2 Axes>"
      ]
     },
     "metadata": {},
     "output_type": "display_data"
    }
   ],
   "source": [
    "with rasterio.open(\"/notebooks/tmp/data/new_mask_rcnn_data/bomb1_meiler2x/HG_Dgm05487_7.tif\") as lidar_dem:\n",
    "    lidar_dem_im = lidar_dem.read(1, masked = True)\n",
    "fig, ax = plt.subplots(figsize = (10,6))\n",
    "fin_plot = ax.imshow(lidar_dem_im, cmap='viridis_r', alpha=.5)\n",
    "fig.colorbar(fin_plot, fraction=.024, pad=.02)\n",
    "ax.set_axis_off()\n",
    "ax.set(title=\"Lidar Digital Elevation Model (DEM)\\n overlayed on top of a hillshade\");"
   ]
  },
  {
   "cell_type": "code",
   "execution_count": 84,
   "metadata": {},
   "outputs": [
    {
     "data": {
      "image/png": "[encoded data removed]",
      "text/plain": [
       "<Figure size 432x288 with 1 Axes>"
      ]
     },
     "metadata": {},
     "output_type": "display_data"
    },
    {
     "data": {
      "text/plain": [
       "<matplotlib.axes._subplots.AxesSubplot at 0x7f05e8a12b70>"
      ]
     },
     "execution_count": 84,
     "metadata": {},
     "output_type": "execute_result"
    }
   ],
   "source": [
    "show(raster)"
   ]
  },
  {
   "cell_type": "code",
   "execution_count": 103,
   "metadata": {},
   "outputs": [
    {
     "name": "stdout",
     "output_type": "stream",
     "text": [
      "shape:  (256, 256, 1)\n"
     ]
    },
    {
     "data": {
      "image/png": "[encoded data removed]",
      "text/plain": [
       "<Figure size 1152x1152 with 1 Axes>"
      ]
     },
     "metadata": {
      "needs_background": "light"
     },
     "output_type": "display_data"
    }
   ],
   "source": [
    "ax = get_ax(1)\n",
    "r = results[0]\n",
    "visualize.display_instances(image, r['rois'], r['masks'], r['class_ids'], \n",
    "                            dataset.class_names, r['scores'], ax=ax,\n",
    "                            title=\"Predictions\")"
   ]
  },
  {
   "cell_type": "code",
   "execution_count": 104,
   "metadata": {},
   "outputs": [
    {
     "name": "stdout",
     "output_type": "stream",
     "text": [
      "shape:  (256, 256, 1)\n"
     ]
    }
   ],
   "source": [
    "visualize.display_differences(image,\n",
    "                        gt_bbox, gt_class_id, gt_mask,\n",
    "                        r['rois'], r['class_ids'], r['scores'], r['masks'],\n",
    "                        dataset.class_names, title=\"Differences\", ax=ax,\n",
    "                        show_mask=True, show_box=True,\n",
    "                        iou_threshold=0.5, score_threshold=0.5)"
   ]
  },
  {
   "cell_type": "code",
   "execution_count": null,
   "metadata": {},
   "outputs": [],
   "source": []
  },
  {
   "cell_type": "code",
   "execution_count": 19,
   "metadata": {},
   "outputs": [
    {
     "name": "stdout",
     "output_type": "stream",
     "text": [
      "Running on /notebooks/tmp/data/bomb1_meiler2/bomb1_meiler2x_original/marsly_HG_Dgm05280.tif\n",
      "Processing 1 images\n",
      "image                    shape: (256, 256, 1)         min:    0.00000  max:    1.00000  float32\n",
      "molded_images            shape: (1, 1024, 1024, 1)    min:    0.00000  max:    0.99891  float64\n",
      "image_metas              shape: (1, 15)               min:    0.00000  max: 1024.00000  float64\n",
      "anchors                  shape: (1, 261888, 4)        min:   -0.35390  max:    1.29134  float32\n"
     ]
    }
   ],
   "source": [
    "r = harz.detect_and_color_splash(model, images[0])"
   ]
  },
  {
   "cell_type": "code",
   "execution_count": 46,
   "metadata": {},
   "outputs": [],
   "source": [
    "im = '/notebooks/tmp/data/bomb1_meiler2/bomb1_meiler2x_original/marsly_HG_Dgm057.tif'"
   ]
  },
  {
   "cell_type": "code",
   "execution_count": 47,
   "metadata": {},
   "outputs": [
    {
     "name": "stdout",
     "output_type": "stream",
     "text": [
      "Running on /notebooks/tmp/data/bomb1_meiler2/bomb1_meiler2x_original/marsly_HG_Dgm057.tif\n",
      "Processing 1 images\n",
      "image                    shape: (256, 256, 1)         min:    0.00000  max:    1.00000  float32\n",
      "molded_images            shape: (1, 1024, 1024, 1)    min:    0.00000  max:    0.99717  float64\n",
      "image_metas              shape: (1, 15)               min:    0.00000  max: 1024.00000  float64\n",
      "anchors                  shape: (1, 261888, 4)        min:   -0.35390  max:    1.29134  float32\n"
     ]
    }
   ],
   "source": [
    "r2 = harz.detect_and_color_splash(model, im)"
   ]
  },
  {
   "cell_type": "code",
   "execution_count": 48,
   "metadata": {},
   "outputs": [
    {
     "data": {
      "text/plain": [
       "dict_keys(['rois', 'masks', 'class_ids', 'scores'])"
      ]
     },
     "execution_count": 48,
     "metadata": {},
     "output_type": "execute_result"
    }
   ],
   "source": [
    "r2.keys()"
   ]
  },
  {
   "cell_type": "code",
   "execution_count": 27,
   "metadata": {},
   "outputs": [
    {
     "data": {
      "text/plain": [
       "array([114, 115, 140, 141], dtype=int32)"
      ]
     },
     "execution_count": 27,
     "metadata": {},
     "output_type": "execute_result"
    }
   ],
   "source": [
    "r['rois'][0]"
   ]
  },
  {
   "cell_type": "code",
   "execution_count": 28,
   "metadata": {},
   "outputs": [
    {
     "name": "stdout",
     "output_type": "stream",
     "text": [
      "(4, 256, 256)\n"
     ]
    }
   ],
   "source": [
    "out = np.zeros((len(r['scores']),256,256))\n",
    "print(out.shape)\n",
    "for i in range(len(r['scores'])):\n",
    "    out[i][r['rois'][i][0]:r['rois'][i][2],r['rois'][i][1]:r['rois'][i][3]] = 1\n"
   ]
  },
  {
   "cell_type": "code",
   "execution_count": 49,
   "metadata": {},
   "outputs": [
    {
     "name": "stdout",
     "output_type": "stream",
     "text": [
      "(5, 256, 256)\n"
     ]
    }
   ],
   "source": [
    "out2 = np.zeros((len(r2['scores']),256,256))\n",
    "print(out2.shape)\n",
    "for i in range(len(r2['scores'])):\n",
    "    out2[i][r2['rois'][i][0]:r2['rois'][i][2],r2['rois'][i][1]:r2['rois'][i][3]] = 1\n"
   ]
  },
  {
   "cell_type": "code",
   "execution_count": 29,
   "metadata": {},
   "outputs": [
    {
     "data": {
      "text/plain": [
       "(array([0., 1.]), array([64860,   676]))"
      ]
     },
     "execution_count": 29,
     "metadata": {},
     "output_type": "execute_result"
    }
   ],
   "source": [
    "np.unique(out[0],return_counts=True)"
   ]
  },
  {
   "cell_type": "code",
   "execution_count": 30,
   "metadata": {},
   "outputs": [],
   "source": [
    "import src.my_utils as ut"
   ]
  },
  {
   "cell_type": "code",
   "execution_count": 22,
   "metadata": {},
   "outputs": [
    {
     "data": {
      "text/plain": [
       "array([[114, 115, 140, 141],\n",
       "       [ 96,  46, 117,  67],\n",
       "       [ 66,  78,  85,  97],\n",
       "       [109,  90, 125, 105]], dtype=int32)"
      ]
     },
     "execution_count": 22,
     "metadata": {},
     "output_type": "execute_result"
    }
   ],
   "source": [
    "r['rois']"
   ]
  },
  {
   "cell_type": "code",
   "execution_count": 50,
   "metadata": {},
   "outputs": [
    {
     "data": {
      "text/plain": [
       "array([[118, 119, 137, 138],\n",
       "       [120,  38, 135,  54],\n",
       "       [135,  46, 153,  65],\n",
       "       [ 87,  28, 104,  45],\n",
       "       [206, 197, 221, 213]], dtype=int32)"
      ]
     },
     "execution_count": 50,
     "metadata": {},
     "output_type": "execute_result"
    }
   ],
   "source": [
    "r2['rois']"
   ]
  },
  {
   "cell_type": "code",
   "execution_count": 52,
   "metadata": {},
   "outputs": [],
   "source": [
    "for i in range(5):\n",
    "    ut.write_numpy_array_to_tif(out2[i], 'cc'+str(i)+'.tif', original_tif=im)"
   ]
  }
 ],
 "metadata": {
  "kernelspec": {
   "display_name": "Python 3",
   "language": "python",
   "name": "python3"
  },
  "language_info": {
   "codemirror_mode": {
    "name": "ipython",
    "version": 3
   },
   "file_extension": ".py",
   "mimetype": "text/x-python",
   "name": "python",
   "nbconvert_exporter": "python",
   "pygments_lexer": "ipython3",
   "version": "3.6.6"
  }
 },
 "nbformat": 4,
 "nbformat_minor": 2
}
